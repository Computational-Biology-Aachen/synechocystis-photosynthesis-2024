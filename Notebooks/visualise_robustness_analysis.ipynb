{
 "cells": [
  {
   "cell_type": "code",
   "execution_count": 1,
   "metadata": {},
   "outputs": [],
   "source": [
    "import numpy as np\n",
    "import pandas as pd"
   ]
  },
  {
   "cell_type": "code",
   "execution_count": 9,
   "metadata": {},
   "outputs": [],
   "source": [
    "mcpar = pd.read_csv(\"../Results/montecarlo_202405071814_params.csv\")\n",
    "mcres = pd.read_csv(\"../Results/montecarlo_202405071814_results.csv\", index_col=0).iloc[:,0]"
   ]
  },
  {
   "cell_type": "code",
   "execution_count": 15,
   "metadata": {},
   "outputs": [
    {
     "name": "stdout",
     "output_type": "stream",
     "text": [
      "Full runs: 2\n",
      "Time-outs: 9998\n",
      "Failed: 1\n"
     ]
    }
   ],
   "source": [
    "# Summary\n",
    "mcres_timeout = np.isnan(mcres)\n",
    "mcres_failed = np.isinf(mcres)\n",
    "mcres_succ = np.invert(np.logical_or(mcres_timeout, mcres_failed))\n",
    "\n",
    "print(f\"Full runs: {mcres_succ.sum()}\")\n",
    "print(f\"Time-outs: {mcres_timeout.sum()}\")\n",
    "print(f\"Failed: {mcres_failed.sum()}\")"
   ]
  }
 ],
 "metadata": {
  "kernelspec": {
   "display_name": "synphot",
   "language": "python",
   "name": "python3"
  },
  "language_info": {
   "codemirror_mode": {
    "name": "ipython",
    "version": 3
   },
   "file_extension": ".py",
   "mimetype": "text/x-python",
   "name": "python",
   "nbconvert_exporter": "python",
   "pygments_lexer": "ipython3",
   "version": "3.11.0"
  }
 },
 "nbformat": 4,
 "nbformat_minor": 2
}

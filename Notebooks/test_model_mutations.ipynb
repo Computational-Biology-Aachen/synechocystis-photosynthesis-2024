{
 "cells": [
  {
   "cell_type": "code",
   "execution_count": 1,
   "metadata": {},
   "outputs": [],
   "source": [
    "import pandas as pd\n",
    "import numpy as np\n",
    "import sys\n",
    "from datetime import datetime\n",
    "from tqdm.auto import tqdm\n",
    "import pebble\n",
    "import pickle\n",
    "from functools import partial\n",
    "import warnings\n",
    "\n",
    "from concurrent import futures\n",
    "from function_residuals import calculate_residuals\n",
    "\n",
    "sys.path.append(\"../Code\")\n",
    "\n",
    "# Import model functions\n",
    "from get_current_model import get_model"
   ]
  },
  {
   "cell_type": "code",
   "execution_count": 2,
   "metadata": {},
   "outputs": [],
   "source": [
    "# Set the number of evaluated samples\n",
    "n_mutations = 100\n",
    "include_default_model = False\n",
    "\n",
    "# Set the maximum number of parallel threads and the timeout\n",
    "n_workers = 5 # Maximum number of parallel threads\n",
    "timeout = 300 # Timeout for each thread in seconds\n",
    "\n",
    "# Set the prefix to be used for logging and results files\n",
    "# file_prefix = f\"residuals_{datetime.now().strftime('%Y%m%d%H%M')}\"\n",
    "file_prefix = f\"residuals_test\"\n",
    "\n",
    "# Set the random number generator\n",
    "rng = np.random.default_rng(2024)"
   ]
  },
  {
   "cell_type": "code",
   "execution_count": 3,
   "metadata": {},
   "outputs": [],
   "source": [
    "parameter_ranges = {\n",
    "    \"PSIItot\": (0.1,10),\n",
    "    \"PSItot\": (0.1,10),\n",
    "    \"Q_tot\": (0.1,10),\n",
    "    \"PC_tot\": (0.1,10),\n",
    "    \"Fd_tot\": (0.1,10),\n",
    "    \"NADP_tot\": (0.1,10),\n",
    "    \"NAD_tot\": (0.1,10),\n",
    "    \"AP_tot\": (0.1,10),\n",
    "    \"O2ext\": (0.1,10),\n",
    "    \"bHi\": (0.1,10),\n",
    "    \"bHo\": (0.1,10),\n",
    "    \"cf_lumen\": (0.1,10),\n",
    "    \"cf_cytoplasm\": (0.1,10),\n",
    "    \"fCin\": (0.1,10),\n",
    "    \"kH0\": (0.1,10),\n",
    "    \"kHst\": (0.1,10),\n",
    "    \"kF\": (0.1,10),\n",
    "    \"k2\": (0.1,10),\n",
    "    \"kPQred\": (0.1,10),\n",
    "    \"kPCox\": (0.1,10),\n",
    "    \"kFdred\": (0.1,10),\n",
    "    \"k_F1\": (0.1,10),\n",
    "    \"k_ox1\": (0.1,10),\n",
    "    \"k_Q\": (0.1,10),\n",
    "    \"k_NDH\": (0.1,10),\n",
    "    \"k_SDH\": (0.1,10),\n",
    "    \"k_FN_fwd\": (0.1,10),\n",
    "    \"k_FN_rev\": (0.1,10),\n",
    "    \"k_pass\": (0.1,10),\n",
    "    \"k_aa\": (0.1,10),\n",
    "    \"kRespiration\": (0.1,10),\n",
    "    \"kO2out\": (0.1,10),\n",
    "    \"kCCM\": (0.1,10),\n",
    "    \"fluo_influence\": (0.1,10),\n",
    "    \"PBS_free\": (0.1,10),\n",
    "    \"PBS_PS1\": (0.1,10),\n",
    "    \"PBS_PS2\": (0.1,10),\n",
    "    \"lcf\": (0.1,10),\n",
    "    \"KMPGA\": (0.1,10),\n",
    "    \"kATPsynth\": (0.1,10),\n",
    "    \"Pi_mol\": (0.1,10),\n",
    "    \"HPR\": (0.1,10),\n",
    "    \"kATPconsumption\": (0.1,10),\n",
    "    \"kNADHconsumption\": (0.1,10),\n",
    "    \"vOxy_max\": (0.1,10),\n",
    "    \"KMATP\": (0.1,10),\n",
    "    \"KMNADPH\": (0.1,10),\n",
    "    \"KMCO2\": (0.1,10),\n",
    "    \"KIO2\": (0.1,10),\n",
    "    \"KMO2\": (0.1,10),\n",
    "    \"KICO2\": (0.1,10),\n",
    "    \"vCBB_max\": (0.1,10),\n",
    "    \"kPR\": (0.1,10),\n",
    "    \"kUnquench\": (0.1,10),\n",
    "    \"KMUnquench\": (0.1,10),\n",
    "    \"kQuench\": (0.1,10),\n",
    "    \"KHillFdred\": (0.1,10),\n",
    "    \"nHillFdred\": (0.1,10),\n",
    "    \"k_O2\": (0.1,10),\n",
    "    \"cChl\": (0.1,10),\n",
    "    \"CO2ext_pp\": (0.1,10),\n",
    "    \"S\": (0.1,10),\n",
    "    \"kCBBactivation\": (0.1,10),\n",
    "    \"KMFdred\": (0.1,10),\n",
    "    \"kOCPactivation\": (0.1,10),\n",
    "    \"kOCPdeactivation\": (0.1,10),\n",
    "    \"OCPmax\": (0.1,10),\n",
    "    \"vNQ_max\": (0.1,10),\n",
    "    \"KMNQ_Qox\": (0.1,10),\n",
    "    \"KMNQ_Fdred\": (0.1,10),\n",
    "}"
   ]
  },
  {
   "cell_type": "code",
   "execution_count": 4,
   "metadata": {},
   "outputs": [],
   "source": [
    "# Load the model to get default parameter values\n",
    "m = get_model(get_y0=False, verbose=False, check_consistency=False)"
   ]
  },
  {
   "cell_type": "code",
   "execution_count": 5,
   "metadata": {},
   "outputs": [],
   "source": [
    "# Define a function to generate a number of random log-spaced factors to be used with the parameters\n",
    "def get_mutation_factors(n, start, end, rng):\n",
    "    rand = rng.random(n)\n",
    "    return np.exp(np.log(start) + rand*(np.log(end)-np.log(start)))\n",
    "\n",
    "def get_parameter_mutations(n, parameter_ranges, rng, m=m):\n",
    "    # Create a container for the mutations\n",
    "    res = pd.DataFrame(index=np.arange(n), columns=parameter_ranges.keys(), dtype=object)\n",
    "\n",
    "    for k,v in parameter_ranges.items():\n",
    "        if k==\"fluo_influence\":\n",
    "            _res = {l:m.parameters[k][l] * get_mutation_factors(n, *v, rng=rng) for l in m.parameters[k]}\n",
    "            res[k] = pd.DataFrame(_res).T.to_dict()\n",
    "        else:\n",
    "            # Mutate the default parameter value with the random factors\n",
    "            res[k] = m.parameters[k] * get_mutation_factors(n, *v, rng=rng)\n",
    "    return res"
   ]
  },
  {
   "cell_type": "code",
   "execution_count": 6,
   "metadata": {},
   "outputs": [],
   "source": [
    "# Define a function to be executed by each thread\n",
    "def thread_function(x, **kwargs):\n",
    "    # Unpack the input index and parameter values\n",
    "    index, p = x\n",
    "\n",
    "    try:\n",
    "        # Execute the actual function\n",
    "        result = calculate_residuals(p, index, **kwargs)\n",
    "\n",
    "        return index, result\n",
    "\n",
    "        # Handle the result if needed\n",
    "    except Exception as e:\n",
    "        print(f\"An error occurred in thread {index} with parameter {p}: {e}\")"
   ]
  },
  {
   "cell_type": "code",
   "execution_count": 7,
   "metadata": {},
   "outputs": [],
   "source": [
    "# Create the parameters\n",
    "params = get_parameter_mutations(n_mutations+include_default_model, parameter_ranges, rng, m)\n",
    "\n",
    "# Include the default model in first position\n",
    "if include_default_model:\n",
    "    params.loc[0] = pd.Series({k: m.parameters[k] for k in params.columns})\n",
    "\n",
    "# Save the parameters\n",
    "params.to_csv(f\"../out/{file_prefix}_params.csv\")"
   ]
  },
  {
   "cell_type": "code",
   "execution_count": 8,
   "metadata": {},
   "outputs": [
    {
     "data": {
      "application/vnd.jupyter.widget-view+json": {
       "model_id": "a0afcfca529d45378346ac93fa37b865",
       "version_major": 2,
       "version_minor": 0
      },
      "text/plain": [
       "  0%|          | 0/100 [00:00<?, ?it/s]"
      ]
     },
     "metadata": {},
     "output_type": "display_data"
    },
    {
     "name": "stderr",
     "output_type": "stream",
     "text": [
      "UserWarning: Error encountered in 4: simulation failed for i=100.00\n",
      "UserWarning: Error encountered in 3: simulation failed for i=100.00\n",
      "UserWarning: Error encountered in 1: simulation failed for i=100.00\n",
      "UserWarning: Error encountered in 6: simulation failed for i=100.00\n",
      "UserWarning: Error encountered in 5: simulation failed for i=100.00\n",
      "UserWarning: Error encountered in 7: simulation failed for i=100.00\n",
      "UserWarning: Error encountered in 10: simulation failed for i=100.00\n",
      "UserWarning: Error encountered in 11: simulation failed for i=100.00\n",
      "UserWarning: Error encountered in 0: simulation failed for i=100.00\n",
      "UserWarning: Error encountered in 2: simulation failed for i=100.00\n",
      "UserWarning: Error encountered in 13: simulation failed for i=100.00\n"
     ]
    },
    {
     "name": "stdout",
     "output_type": "stream",
     "text": [
      "[CVode Warning] b'Internal t = 0.171609 and h = 1.26058e-17 are such that t + h = t on the next step. The solver will continue anyway.'\n",
      "[CVode Warning] b'Internal t = 0.171609 and h = 1.26058e-17 are such that t + h = t on the next step. The solver will continue anyway.'\n",
      "[CVode Warning] b'Internal t = 0.171609 and h = 5.78352e-18 are such that t + h = t on the next step. The solver will continue anyway.'\n"
     ]
    },
    {
     "name": "stderr",
     "output_type": "stream",
     "text": [
      "UserWarning: Error encountered in 15: simulation failed for i=100.00\n"
     ]
    },
    {
     "name": "stdout",
     "output_type": "stream",
     "text": [
      "[CVode Warning] b'Internal t = 0.171609 and h = 5.78352e-18 are such that t + h = t on the next step. The solver will continue anyway.'\n",
      "[CVode Warning] b'Internal t = 0.171609 and h = 5.78352e-18 are such that t + h = t on the next step. The solver will continue anyway.'\n",
      "[CVode Warning] b'Internal t = 0.171609 and h = 5.78352e-18 are such that t + h = t on the next step. The solver will continue anyway.'\n",
      "[CVode Warning] b'Internal t = 0.171609 and h = 5.78352e-18 are such that t + h = t on the next step. The solver will continue anyway.'\n",
      "[CVode Warning] b'Internal t = 0.171609 and h = 5.07722e-18 are such that t + h = t on the next step. The solver will continue anyway.'\n",
      "[CVode Warning] b'Internal t = 0.171609 and h = 5.07722e-18 are such that t + h = t on the next step. The solver will continue anyway.'\n",
      "[CVode Warning] b'Internal t = 0.171609 and h = 1.51435e-18 are such that t + h = t on the next step. The solver will continue anyway.'\n",
      "[CVode Warning] b'The above warning has been issued mxhnil times and will not be issued again for this problem.'\n"
     ]
    },
    {
     "name": "stderr",
     "output_type": "stream",
     "text": [
      "UserWarning: Error encountered in 16: simulation failed for i=100.00\n",
      "UserWarning: Error encountered in 17: simulation failed for i=100.00\n",
      "UserWarning: Error encountered in 8: simulation failed for i=100.00\n",
      "UserWarning: Error encountered in 19: simulation failed for i=100.00\n",
      "UserWarning: Error encountered in 18: simulation failed for i=100.00\n",
      "UserWarning: Error encountered in 21: simulation failed for i=100.00\n",
      "UserWarning: Error encountered in 22: simulation failed for i=100.00\n",
      "UserWarning: Error encountered in 23: simulation failed for i=100.00\n",
      "UserWarning: Error encountered in 24: simulation failed for i=100.00\n",
      "UserWarning: Error encountered in 20: simulation failed for i=100.00\n",
      "UserWarning: Error encountered in 25: simulation failed for i=100.00\n",
      "UserWarning: Error encountered in 26: simulation failed for i=100.00\n",
      "UserWarning: Error encountered in 28: simulation failed for i=100.00\n",
      "UserWarning: Error encountered in 29: simulation failed for i=100.00\n",
      "UserWarning: Error encountered in 30: simulation failed for i=100.00\n",
      "UserWarning: Error encountered in 31: simulation failed for i=100.00\n",
      "UserWarning: Error encountered in 32: simulation failed for i=100.00\n",
      "UserWarning: Error encountered in 33: simulation failed for i=100.00\n",
      "UserWarning: simulation step 0 to t = 320.0 was unsuccessfull\n"
     ]
    },
    {
     "name": "stdout",
     "output_type": "stream",
     "text": [
      "Retrying with retry_kwargs... success\n"
     ]
    },
    {
     "name": "stderr",
     "output_type": "stream",
     "text": [
      "UserWarning: simulation step 24 to t = 540.6 was unsuccessfull\n"
     ]
    },
    {
     "name": "stdout",
     "output_type": "stream",
     "text": [
      "Retrying with retry_kwargs... success\n"
     ]
    },
    {
     "name": "stderr",
     "output_type": "stream",
     "text": [
      "UserWarning: simulation step 26 to t = 560.6 was unsuccessfull\n"
     ]
    },
    {
     "name": "stdout",
     "output_type": "stream",
     "text": [
      "Retrying with retry_kwargs... success\n"
     ]
    },
    {
     "name": "stderr",
     "output_type": "stream",
     "text": [
      "UserWarning: Error encountered in 34: simulation failed for i=100.00\n",
      "UserWarning: Error encountered in 35: simulation failed for i=100.00\n",
      "UserWarning: Error encountered in 36: simulation failed for i=0.00\n",
      "UserWarning: Error encountered in 37: simulation failed for i=100.00\n",
      "UserWarning: Error encountered in 38: simulation failed for i=100.00\n",
      "UserWarning: Error encountered in 39: simulation failed for i=100.00\n",
      "UserWarning: Error encountered in 40: simulation failed for i=100.00\n",
      "UserWarning: Error encountered in 41: simulation failed for i=100.00\n",
      "UserWarning: Error encountered in 42: simulation failed for i=100.00\n",
      "UserWarning: Error encountered in 43: simulation failed for i=100.00\n",
      "UserWarning: Error encountered in 44: simulation failed for i=100.00\n",
      "UserWarning: Error encountered in 45: simulation failed for i=100.00\n",
      "UserWarning: simulation step 0 to t = 300.0 was unsuccessfull\n"
     ]
    },
    {
     "name": "stdout",
     "output_type": "stream",
     "text": [
      "Retrying with retry_kwargs... success\n"
     ]
    },
    {
     "name": "stderr",
     "output_type": "stream",
     "text": [
      "UserWarning: Error encountered in 46: simulation failed for i=100.00\n",
      "UserWarning: Error encountered in 47: simulation failed for i=100.00\n",
      "UserWarning: Error encountered in 48: simulation failed for i=100.00\n",
      "UserWarning: Error encountered in 49: simulation failed for i=100.00\n",
      "UserWarning: simulation step 16 to t = 540.0 was unsuccessfull\n"
     ]
    },
    {
     "name": "stdout",
     "output_type": "stream",
     "text": [
      "Retrying with retry_kwargs... success\n"
     ]
    },
    {
     "name": "stderr",
     "output_type": "stream",
     "text": [
      "UserWarning: simulation step 37 to t = 840.6 was unsuccessfull\n"
     ]
    },
    {
     "name": "stdout",
     "output_type": "stream",
     "text": [
      "Retrying with retry_kwargs... success\n"
     ]
    },
    {
     "name": "stderr",
     "output_type": "stream",
     "text": [
      "UserWarning: Error encountered in 51: simulation failed for i=0.00\n",
      "UserWarning: Error encountered in 52: simulation failed for i=100.00\n",
      "UserWarning: Error encountered in 53: simulation failed for i=100.00\n",
      "UserWarning: Error encountered in 54: simulation failed for i=100.00\n",
      "UserWarning: Error encountered in 55: simulation failed for i=100.00\n",
      "UserWarning: Error encountered in 56: simulation failed for i=100.00\n",
      "UserWarning: Error encountered in 57: simulation failed for i=100.00\n",
      "UserWarning: Error encountered in 58: simulation failed for i=100.00\n",
      "UserWarning: Error encountered in 59: simulation failed for i=100.00\n",
      "UserWarning: Error encountered in 60: simulation failed for i=100.00\n",
      "UserWarning: Error encountered in 61: simulation failed for i=210.00\n",
      "UserWarning: Error encountered in 62: simulation failed for i=100.00\n",
      "UserWarning: Error encountered in 63: simulation failed for i=100.00\n",
      "UserWarning: Error encountered in 64: simulation failed for i=100.00\n",
      "UserWarning: Error encountered in 65: simulation failed for i=100.00\n",
      "UserWarning: Error encountered in 66: simulation failed for i=100.00\n",
      "UserWarning: Error encountered in 67: simulation failed for i=100.00\n",
      "UserWarning: Error encountered in 68: simulation failed for i=100.00\n",
      "UserWarning: Error encountered in 70: simulation failed for i=100.00\n",
      "UserWarning: Error encountered in 71: simulation failed for i=100.00\n",
      "UserWarning: Error encountered in 72: simulation failed for i=100.00\n",
      "UserWarning: Error encountered in 73: simulation failed for i=100.00\n",
      "UserWarning: Error encountered in 74: simulation failed for i=100.00\n",
      "UserWarning: Error encountered in 75: simulation failed for i=100.00\n",
      "UserWarning: Error encountered in 76: simulation failed for i=100.00\n",
      "UserWarning: Error encountered in 77: simulation failed for i=100.00\n",
      "UserWarning: Error encountered in 78: simulation failed for i=100.00\n",
      "UserWarning: Error encountered in 79: simulation failed for i=100.00\n",
      "UserWarning: Error encountered in 80: simulation failed for i=100.00\n",
      "UserWarning: Error encountered in 81: simulation failed for i=100.00\n",
      "UserWarning: Error encountered in 69: simulation failed for i=100.00\n",
      "UserWarning: Error encountered in 82: simulation failed for i=100.00\n",
      "UserWarning: Error encountered in 84: simulation failed for i=100.00\n",
      "UserWarning: Error encountered in 85: simulation failed for i=100.00\n",
      "UserWarning: Error encountered in 86: simulation failed for i=100.00\n",
      "UserWarning: Error encountered in 87: simulation failed for i=100.00\n",
      "UserWarning: Error encountered in 88: simulation failed for i=100.00\n",
      "UserWarning: Error encountered in 89: simulation failed for i=100.00\n",
      "UserWarning: Error encountered in 90: simulation failed for i=100.00\n",
      "UserWarning: Error encountered in 91: simulation failed for i=100.00\n",
      "UserWarning: Error encountered in 92: simulation failed for i=100.00\n",
      "UserWarning: Error encountered in 93: simulation failed for i=100.00\n",
      "UserWarning: simulation step 0 to t = 320.0 was unsuccessfull\n"
     ]
    },
    {
     "name": "stdout",
     "output_type": "stream",
     "text": [
      "Retrying with retry_kwargs... "
     ]
    },
    {
     "name": "stderr",
     "output_type": "stream",
     "text": [
      "UserWarning: simulation step 0 to t = 320.0 was unsuccessfull\n"
     ]
    },
    {
     "name": "stdout",
     "output_type": "stream",
     "text": [
      "Retrying with retry_kwargs... "
     ]
    },
    {
     "name": "stderr",
     "output_type": "stream",
     "text": [
      "UserWarning: Error encountered in 95: simulation failed for i=100.00\n",
      "UserWarning: Error encountered in 97: simulation failed for i=100.00\n",
      "UserWarning: Error encountered in 98: simulation failed for i=100.00\n",
      "UserWarning: Error encountered in 99: simulation failed for i=100.00\n"
     ]
    },
    {
     "name": "stdout",
     "output_type": "stream",
     "text": [
      "success\n",
      "success\n"
     ]
    },
    {
     "name": "stderr",
     "output_type": "stream",
     "text": [
      "UserWarning: simulation step 11 to t = 420.3 was unsuccessfull\n"
     ]
    },
    {
     "name": "stdout",
     "output_type": "stream",
     "text": [
      "Retrying with retry_kwargs... success\n"
     ]
    },
    {
     "name": "stderr",
     "output_type": "stream",
     "text": [
      "UserWarning: simulation step 81 to t = 1081.4999999999998 was unsuccessfull\n"
     ]
    },
    {
     "name": "stdout",
     "output_type": "stream",
     "text": [
      "Retrying with retry_kwargs... success\n"
     ]
    },
    {
     "name": "stderr",
     "output_type": "stream",
     "text": [
      "UserWarning: Error encountered in 96: simulation failed for i=100.00\n",
      "UserWarning: simulation step 38 to t = 680.6 was unsuccessfull\n"
     ]
    },
    {
     "name": "stdout",
     "output_type": "stream",
     "text": [
      "Retrying with retry_kwargs... success\n"
     ]
    },
    {
     "name": "stderr",
     "output_type": "stream",
     "text": [
      "UserWarning: simulation step 0 to t = 300.0 was unsuccessfull\n"
     ]
    },
    {
     "name": "stdout",
     "output_type": "stream",
     "text": [
      "Retrying with retry_kwargs... success\n"
     ]
    },
    {
     "name": "stderr",
     "output_type": "stream",
     "text": [
      "UserWarning: simulation step 18 to t = 570.0 was unsuccessfull\n"
     ]
    },
    {
     "name": "stdout",
     "output_type": "stream",
     "text": [
      "Retrying with retry_kwargs... success\n"
     ]
    },
    {
     "name": "stderr",
     "output_type": "stream",
     "text": [
      "UserWarning: simulation step 27 to t = 690.6 was unsuccessfull\n"
     ]
    },
    {
     "name": "stdout",
     "output_type": "stream",
     "text": [
      "Retrying with retry_kwargs... success\n"
     ]
    },
    {
     "name": "stderr",
     "output_type": "stream",
     "text": [
      "UserWarning: simulation step 35 to t = 810.6 was unsuccessfull\n"
     ]
    },
    {
     "name": "stdout",
     "output_type": "stream",
     "text": [
      "Retrying with retry_kwargs... success\n"
     ]
    },
    {
     "name": "stderr",
     "output_type": "stream",
     "text": [
      "UserWarning: simulation step 23 to t = 630.6 was unsuccessfull\n"
     ]
    },
    {
     "name": "stdout",
     "output_type": "stream",
     "text": [
      "Retrying with retry_kwargs... success\n"
     ]
    },
    {
     "name": "stderr",
     "output_type": "stream",
     "text": [
      "UserWarning: simulation step 29 to t = 720.6 was unsuccessfull\n"
     ]
    },
    {
     "name": "stdout",
     "output_type": "stream",
     "text": [
      "Retrying with retry_kwargs... success\n"
     ]
    }
   ],
   "source": [
    "# Initialise container for residuals\n",
    "results = pd.Series(index=np.arange(n_mutations+include_default_model), dtype=float)\n",
    "\n",
    "# Catch unnecessary warnings:\n",
    "with warnings.catch_warnings() as w:\n",
    "    # Cause all warnings to always be triggered.\n",
    "    # warnings.simplefilter(\"ignore\", category=RuntimeWarning)\n",
    "    warnings.simplefilter(\"ignore\")\n",
    "    \n",
    "    # Execute the thread_function for each parameter input\n",
    "    with tqdm(total=n_mutations+include_default_model) as pbar:\n",
    "        with pebble.ProcessPool(max_workers=n_workers) as pool:\n",
    "            try:\n",
    "                for index, res in pool.map(\n",
    "                    partial(\n",
    "                        thread_function,\n",
    "                        intermediate_results_file=f\"../out/{file_prefix}_intermediate.csv\",\n",
    "                        logger_filename=f\"../out/{file_prefix}\",\n",
    "                    ),\n",
    "                    params.iterrows(),\n",
    "                    timeout=timeout,\n",
    "                ).result():\n",
    "                    pbar.update(1)\n",
    "                    results[index] = res\n",
    "\n",
    "            except futures.TimeoutError:\n",
    "                pbar.update(1)\n",
    "            except Exception as e:\n",
    "                pbar.update(1)\n",
    "                print(e)\n",
    "            finally:\n",
    "                pbar.update(1)\n",
    "\n",
    "    # Save the results\n",
    "    results.to_csv(f\"../out/{file_prefix}_results.csv\")\n",
    "\n",
    "print(f\"No. full successful runs: {np.invert(results.isna()).sum() - include_default_model}/{n_mutations}\")"
   ]
  },
  {
   "cell_type": "code",
   "execution_count": 18,
   "metadata": {},
   "outputs": [
    {
     "name": "stdout",
     "output_type": "stream",
     "text": [
      "No. full successful runs: 1/100\n"
     ]
    }
   ],
   "source": [
    "print(f\"No. full successful runs: {np.invert(results.isna()).sum() - include_default_model}/{n_mutations}\")"
   ]
  }
 ],
 "metadata": {
  "kernelspec": {
   "display_name": "synechocystis-etc-2022",
   "language": "python",
   "name": "python3"
  },
  "language_info": {
   "codemirror_mode": {
    "name": "ipython",
    "version": 3
   },
   "file_extension": ".py",
   "mimetype": "text/x-python",
   "name": "python",
   "nbconvert_exporter": "python",
   "pygments_lexer": "ipython3",
   "version": "3.11.0"
  }
 },
 "nbformat": 4,
 "nbformat_minor": 2
}

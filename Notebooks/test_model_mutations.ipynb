{
 "cells": [
  {
   "cell_type": "code",
   "execution_count": 1,
   "metadata": {},
   "outputs": [],
   "source": [
    "#!/usr/bin/python3\n",
    "import pandas as pd\n",
    "import numpy as np\n",
    "import sys\n",
    "from tqdm.auto import tqdm\n",
    "import pebble\n",
    "import pickle\n",
    "from functools import partial\n",
    "import warnings\n",
    "\n",
    "from datetime import datetime\n",
    "from concurrent import futures\n",
    "from pathlib import Path\n",
    "\n",
    "sys.path.append(\"../Code\")\n",
    "\n",
    "# Import model functions\n",
    "from function_residuals import calculate_residuals\n",
    "from get_current_model import get_model"
   ]
  },
  {
   "cell_type": "code",
   "execution_count": 2,
   "metadata": {},
   "outputs": [],
   "source": [
    "# Set the number of evaluated samples\n",
    "n_mutations = 4\n",
    "include_default_model = False\n",
    "\n",
    "# Set the maximum number of parallel threads and the timeout\n",
    "n_workers = 4 # Maximum number of parallel threads\n",
    "timeout = 300 # Timeout for each thread in seconds\n",
    "\n",
    "# Set the prefix to be used for logging and results files\n",
    "file_prefix = f\"residuals_{datetime.now().strftime('%Y%m%d%H%M')}\"\n",
    "# file_prefix = f\"residuals_test\"\n",
    "\n",
    "# Set the random number generator\n",
    "rng = np.random.default_rng(2024)"
   ]
  },
  {
   "cell_type": "code",
   "execution_count": 3,
   "metadata": {},
   "outputs": [],
   "source": [
    "parameter_ranges = {\n",
    "    \"PSIItot\": (0.1,10),\n",
    "    \"PSItot\": (0.1,10),\n",
    "    \"Q_tot\": (0.1,10),\n",
    "    \"PC_tot\": (0.1,10),\n",
    "    \"Fd_tot\": (0.1,10),\n",
    "    \"NADP_tot\": (0.1,10),\n",
    "    \"NAD_tot\": (0.1,10),\n",
    "    \"AP_tot\": (0.1,10),\n",
    "    \"O2ext\": (0.1,10),\n",
    "    \"bHi\": (0.1,10),\n",
    "    \"bHo\": (0.1,10),\n",
    "    \"cf_lumen\": (0.1,10),\n",
    "    \"cf_cytoplasm\": (0.1,10),\n",
    "    \"fCin\": (0.1,10),\n",
    "    \"kH0\": (0.1,10),\n",
    "    \"kHst\": (0.1,10),\n",
    "    \"kF\": (0.1,10),\n",
    "    \"k2\": (0.1,10),\n",
    "    \"kPQred\": (0.1,10),\n",
    "    \"kPCox\": (0.1,10),\n",
    "    \"kFdred\": (0.1,10),\n",
    "    \"k_F1\": (0.1,10),\n",
    "    \"k_ox1\": (0.1,10),\n",
    "    \"k_Q\": (0.1,10),\n",
    "    \"k_NDH\": (0.1,10),\n",
    "    \"k_SDH\": (0.1,10),\n",
    "    \"k_FN_fwd\": (0.1,10),\n",
    "    \"k_FN_rev\": (0.1,10),\n",
    "    \"k_pass\": (0.1,10),\n",
    "    \"k_aa\": (0.1,10),\n",
    "    \"kRespiration\": (0.1,10),\n",
    "    \"kO2out\": (0.1,10),\n",
    "    \"kCCM\": (0.1,10),\n",
    "    \"fluo_influence\": (0.1,10),\n",
    "    \"PBS_free\": (0.1,10),\n",
    "    \"PBS_PS1\": (0.1,10),\n",
    "    \"PBS_PS2\": (0.1,10),\n",
    "    \"lcf\": (0.1,10),\n",
    "    \"KMPGA\": (0.1,10),\n",
    "    \"kATPsynth\": (0.1,10),\n",
    "    \"Pi_mol\": (0.1,10),\n",
    "    \"HPR\": (0.1,10),\n",
    "    \"kATPconsumption\": (0.1,10),\n",
    "    \"kNADHconsumption\": (0.1,10),\n",
    "    \"vOxy_max\": (0.1,10),\n",
    "    \"KMATP\": (0.1,10),\n",
    "    \"KMNADPH\": (0.1,10),\n",
    "    \"KMCO2\": (0.1,10),\n",
    "    \"KIO2\": (0.1,10),\n",
    "    \"KMO2\": (0.1,10),\n",
    "    \"KICO2\": (0.1,10),\n",
    "    \"vCBB_max\": (0.1,10),\n",
    "    \"kPR\": (0.1,10),\n",
    "    \"kUnquench\": (0.1,10),\n",
    "    \"KMUnquench\": (0.1,10),\n",
    "    \"kQuench\": (0.1,10),\n",
    "    \"KHillFdred\": (0.1,10),\n",
    "    \"nHillFdred\": (0.1,10),\n",
    "    \"k_O2\": (0.1,10),\n",
    "    \"cChl\": (0.1,10),\n",
    "    \"CO2ext_pp\": (0.1,10),\n",
    "    \"S\": (0.1,10),\n",
    "    \"kCBBactivation\": (0.1,10),\n",
    "    \"KMFdred\": (0.1,10),\n",
    "    \"kOCPactivation\": (0.1,10),\n",
    "    \"kOCPdeactivation\": (0.1,10),\n",
    "    \"OCPmax\": (0.1,10),\n",
    "    \"vNQ_max\": (0.1,10),\n",
    "    \"KMNQ_Qox\": (0.1,10),\n",
    "    \"KMNQ_Fdred\": (0.1,10),\n",
    "}"
   ]
  },
  {
   "cell_type": "code",
   "execution_count": 4,
   "metadata": {},
   "outputs": [],
   "source": [
    "# Load the model to get default parameter values\n",
    "m = get_model(get_y0=False, verbose=False, check_consistency=False)"
   ]
  },
  {
   "cell_type": "code",
   "execution_count": 5,
   "metadata": {},
   "outputs": [],
   "source": [
    "# Define a function to generate a number of random log-spaced factors to be used with the parameters\n",
    "def get_mutation_factors(n, start, end, rng):\n",
    "    rand = rng.random(n)\n",
    "    return np.exp(np.log(start) + rand*(np.log(end)-np.log(start)))\n",
    "\n",
    "def get_parameter_mutations(n, parameter_ranges, rng, m=m):\n",
    "    # Create a container for the mutations\n",
    "    res = pd.DataFrame(index=np.arange(n), columns=parameter_ranges.keys(), dtype=object)\n",
    "\n",
    "    for k,v in parameter_ranges.items():\n",
    "        if k==\"fluo_influence\":\n",
    "            _res = {l:m.parameters[k][l] * get_mutation_factors(n, *v, rng=rng) for l in m.parameters[k]}\n",
    "            res[k] = pd.DataFrame(_res).T.to_dict()\n",
    "        else:\n",
    "            # Mutate the default parameter value with the random factors\n",
    "            res[k] = m.parameters[k] * get_mutation_factors(n, *v, rng=rng)\n",
    "    return res"
   ]
  },
  {
   "cell_type": "code",
   "execution_count": 6,
   "metadata": {},
   "outputs": [],
   "source": [
    "# Define a function to be executed by each thread\n",
    "def thread_function(x, **kwargs):\n",
    "    # Unpack the input index and parameter values\n",
    "    index, p = x\n",
    "\n",
    "    try:\n",
    "        # Execute the actual function\n",
    "        result = calculate_residuals(p, index, **kwargs)\n",
    "\n",
    "        return index, result\n",
    "\n",
    "        # Handle the result if needed\n",
    "    except Exception as e:\n",
    "        print(f\"An error occurred in thread {index} with parameter {p}: {e}\")"
   ]
  },
  {
   "cell_type": "code",
   "execution_count": 7,
   "metadata": {},
   "outputs": [],
   "source": [
    "# Create the parameters\n",
    "params = get_parameter_mutations(n_mutations+include_default_model, parameter_ranges, rng, m)\n",
    "\n",
    "# Include the default model in first position\n",
    "if include_default_model:\n",
    "    params.loc[0] = pd.Series({k: m.parameters[k] for k in params.columns})\n",
    "\n",
    "# Save the parameters\n",
    "params.to_csv(f\"../out/{file_prefix}_params.csv\")"
   ]
  },
  {
   "cell_type": "code",
   "execution_count": 8,
   "metadata": {},
   "outputs": [],
   "source": [
    "parameter_ranges = {\n",
    "    \"PSIItot\": (0.1,10),\n",
    "    \"PSItot\": (0.1,10),\n",
    "    \"Q_tot\": (0.1,10),\n",
    "    \"PC_tot\": (0.1,10),\n",
    "    \"Fd_tot\": (0.1,10),\n",
    "    \"NADP_tot\": (0.1,10),\n",
    "    \"NAD_tot\": (0.1,10),\n",
    "    \"AP_tot\": (0.1,10),\n",
    "    \"O2ext\": (0.1,10),\n",
    "    \"bHi\": (0.1,10),\n",
    "    \"bHo\": (0.1,10),\n",
    "    \"cf_lumen\": (0.1,10),\n",
    "    \"cf_cytoplasm\": (0.1,10),\n",
    "    \"fCin\": (0.1,10),\n",
    "    \"kH0\": (0.1,10),\n",
    "    \"kHst\": (0.1,10),\n",
    "    \"kF\": (0.1,10),\n",
    "    \"k2\": (0.1,10),\n",
    "    \"kPQred\": (0.1,10),\n",
    "    \"kPCox\": (0.1,10),\n",
    "    \"kFdred\": (0.1,10),\n",
    "    \"k_F1\": (0.1,10),\n",
    "    \"k_ox1\": (0.1,10),\n",
    "    \"k_Q\": (0.1,10),\n",
    "    \"k_NDH\": (0.1,10),\n",
    "    \"k_SDH\": (0.1,10),\n",
    "    \"k_FN_fwd\": (0.1,10),\n",
    "    \"k_FN_rev\": (0.1,10),\n",
    "    \"k_pass\": (0.1,10),\n",
    "    \"k_aa\": (0.1,10),\n",
    "    \"kRespiration\": (0.1,10),\n",
    "    \"kO2out\": (0.1,10),\n",
    "    \"kCCM\": (0.1,10),\n",
    "    \"fluo_influence\": (0.1,10),\n",
    "    \"PBS_free\": (0.1,10),\n",
    "    \"PBS_PS1\": (0.1,10),\n",
    "    \"PBS_PS2\": (0.1,10),\n",
    "    \"lcf\": (0.1,10),\n",
    "    \"KMPGA\": (0.1,10),\n",
    "    \"kATPsynth\": (0.1,10),\n",
    "    \"Pi_mol\": (0.1,10),\n",
    "    \"HPR\": (0.1,10),\n",
    "    \"kATPconsumption\": (0.1,10),\n",
    "    \"kNADHconsumption\": (0.1,10),\n",
    "    \"vOxy_max\": (0.1,10),\n",
    "    \"KMATP\": (0.1,10),\n",
    "    \"KMNADPH\": (0.1,10),\n",
    "    \"KMCO2\": (0.1,10),\n",
    "    \"KIO2\": (0.1,10),\n",
    "    \"KMO2\": (0.1,10),\n",
    "    \"KICO2\": (0.1,10),\n",
    "    \"vCBB_max\": (0.1,10),\n",
    "    \"kPR\": (0.1,10),\n",
    "    \"kUnquench\": (0.1,10),\n",
    "    \"KMUnquench\": (0.1,10),\n",
    "    \"kQuench\": (0.1,10),\n",
    "    \"KHillFdred\": (0.1,10),\n",
    "    \"nHillFdred\": (0.1,10),\n",
    "    \"k_O2\": (0.1,10),\n",
    "    \"cChl\": (0.1,10),\n",
    "    \"CO2ext_pp\": (0.1,10),\n",
    "    \"S\": (0.1,10),\n",
    "    \"kCBBactivation\": (0.1,10),\n",
    "    \"KMFdred\": (0.1,10),\n",
    "    \"kOCPactivation\": (0.1,10),\n",
    "    \"kOCPdeactivation\": (0.1,10),\n",
    "    \"OCPmax\": (0.1,10),\n",
    "    \"vNQ_max\": (0.1,10),\n",
    "    \"KMNQ_Qox\": (0.1,10),\n",
    "    \"KMNQ_Fdred\": (0.1,10),\n",
    "}"
   ]
  },
  {
   "cell_type": "code",
   "execution_count": 9,
   "metadata": {},
   "outputs": [],
   "source": [
    "all_results = []\n",
    "all_parameter_ranges = parameter_ranges.copy()\n",
    "\n",
    "which_parameter_ranges = list(all_parameter_ranges.keys())\n",
    "\n",
    "for which_parameter_range in which_parameter_ranges:\n",
    "    parameter_ranges = {k:v for k,v in all_parameter_ranges.items() if k in which_parameter_range}"
   ]
  },
  {
   "cell_type": "code",
   "execution_count": 10,
   "metadata": {},
   "outputs": [
    {
     "name": "stdout",
     "output_type": "stream",
     "text": [
      "PSIItot\n"
     ]
    },
    {
     "data": {
      "application/vnd.jupyter.widget-view+json": {
       "model_id": "116ec4ac20e7428192607dd4568e8298",
       "version_major": 2,
       "version_minor": 0
      },
      "text/plain": [
       "  0%|          | 0/4 [00:00<?, ?it/s]"
      ]
     },
     "metadata": {},
     "output_type": "display_data"
    },
    {
     "name": "stdout",
     "output_type": "stream",
     "text": [
      "No. full successful runs: 3/4\n",
      "PSItot\n"
     ]
    },
    {
     "data": {
      "application/vnd.jupyter.widget-view+json": {
       "model_id": "fb1f662be4d84b1ca44ac00bd661e1ff",
       "version_major": 2,
       "version_minor": 0
      },
      "text/plain": [
       "  0%|          | 0/4 [00:00<?, ?it/s]"
      ]
     },
     "metadata": {},
     "output_type": "display_data"
    },
    {
     "name": "stdout",
     "output_type": "stream",
     "text": [
      "No. full successful runs: 4/4\n",
      "Q_tot\n"
     ]
    },
    {
     "data": {
      "application/vnd.jupyter.widget-view+json": {
       "model_id": "469af182d29f4099a90589258e9812e1",
       "version_major": 2,
       "version_minor": 0
      },
      "text/plain": [
       "  0%|          | 0/4 [00:00<?, ?it/s]"
      ]
     },
     "metadata": {},
     "output_type": "display_data"
    },
    {
     "name": "stdout",
     "output_type": "stream",
     "text": [
      "[CVode Warning] b'Internal t = 0.00803815 and h = 4.25605e-19 are such that t + h = t on the next step. The solver will continue anyway.'\n",
      "[CVode Warning] b'Internal t = 0.00803815 and h = 4.25605e-19 are such that t + h = t on the next step. The solver will continue anyway.'\n",
      "[CVode Warning] b'Internal t = 0.00803815 and h = 3.18294e-19 are such that t + h = t on the next step. The solver will continue anyway.'\n",
      "[CVode Warning] b'Internal t = 0.00803815 and h = 3.18294e-19 are such that t + h = t on the next step. The solver will continue anyway.'\n",
      "[CVode Warning] b'Internal t = 0.00803815 and h = 3.10395e-19 are such that t + h = t on the next step. The solver will continue anyway.'\n",
      "[CVode Warning] b'Internal t = 0.00803815 and h = 3.10395e-19 are such that t + h = t on the next step. The solver will continue anyway.'\n",
      "[CVode Warning] b'Internal t = 0.00803815 and h = 3.04472e-19 are such that t + h = t on the next step. The solver will continue anyway.'\n",
      "[CVode Warning] b'Internal t = 0.00803815 and h = 3.04472e-19 are such that t + h = t on the next step. The solver will continue anyway.'\n",
      "[CVode Warning] b'Internal t = 0.00803815 and h = 3.00102e-19 are such that t + h = t on the next step. The solver will continue anyway.'\n",
      "[CVode Warning] b'Internal t = 0.00803815 and h = 3.00102e-19 are such that t + h = t on the next step. The solver will continue anyway.'\n",
      "[CVode Warning] b'The above warning has been issued mxhnil times and will not be issued again for this problem.'\n",
      "No. full successful runs: 4/4\n",
      "PC_tot\n"
     ]
    },
    {
     "data": {
      "application/vnd.jupyter.widget-view+json": {
       "model_id": "16dce4de49044c48ad7331bc5a68da69",
       "version_major": 2,
       "version_minor": 0
      },
      "text/plain": [
       "  0%|          | 0/4 [00:00<?, ?it/s]"
      ]
     },
     "metadata": {},
     "output_type": "display_data"
    },
    {
     "name": "stdout",
     "output_type": "stream",
     "text": [
      "No. full successful runs: 4/4\n",
      "Fd_tot\n"
     ]
    },
    {
     "data": {
      "application/vnd.jupyter.widget-view+json": {
       "model_id": "42bc4390e51048a39f5b4d596bf65e27",
       "version_major": 2,
       "version_minor": 0
      },
      "text/plain": [
       "  0%|          | 0/4 [00:00<?, ?it/s]"
      ]
     },
     "metadata": {},
     "output_type": "display_data"
    },
    {
     "name": "stdout",
     "output_type": "stream",
     "text": [
      "[CVode Warning] b'Internal t = 0.0962696 and h = 3.06679e-18 are such that t + h = t on the next step. The solver will continue anyway.'\n",
      "[CVode Warning] b'Internal t = 0.0962696 and h = 3.06679e-18 are such that t + h = t on the next step. The solver will continue anyway.'\n",
      "[CVode Warning] b'Internal t = 0.0962696 and h = 5.02617e-18 are such that t + h = t on the next step. The solver will continue anyway.'\n",
      "[CVode Warning] b'Internal t = 0.0962696 and h = 4.8161e-19 are such that t + h = t on the next step. The solver will continue anyway.'\n",
      "[CVode Warning] b'Internal t = 0.0962696 and h = 4.8161e-19 are such that t + h = t on the next step. The solver will continue anyway.'\n",
      "[CVode Warning] b'Internal t = 0.0962696 and h = 2.99734e-19 are such that t + h = t on the next step. The solver will continue anyway.'\n",
      "[CVode Warning] b'Internal t = 0.0962696 and h = 2.99734e-19 are such that t + h = t on the next step. The solver will continue anyway.'\n",
      "[CVode Warning] b'Internal t = 0.0962696 and h = 2.93007e-20 are such that t + h = t on the next step. The solver will continue anyway.'\n",
      "[CVode Warning] b'Internal t = 0.0962696 and h = 2.93007e-20 are such that t + h = t on the next step. The solver will continue anyway.'\n",
      "[CVode Warning] b'Internal t = 0.0962696 and h = 1.39721e-19 are such that t + h = t on the next step. The solver will continue anyway.'\n",
      "[CVode Warning] b'The above warning has been issued mxhnil times and will not be issued again for this problem.'\n",
      "No. full successful runs: 4/4\n",
      "NADP_tot\n"
     ]
    },
    {
     "data": {
      "application/vnd.jupyter.widget-view+json": {
       "model_id": "a8f1b8cb4103443cae4608aa19e7f247",
       "version_major": 2,
       "version_minor": 0
      },
      "text/plain": [
       "  0%|          | 0/4 [00:00<?, ?it/s]"
      ]
     },
     "metadata": {},
     "output_type": "display_data"
    },
    {
     "name": "stdout",
     "output_type": "stream",
     "text": [
      "No. full successful runs: 2/4\n",
      "NAD_tot\n"
     ]
    },
    {
     "data": {
      "application/vnd.jupyter.widget-view+json": {
       "model_id": "6d621ba0f41b416880e0fbb5e12d0557",
       "version_major": 2,
       "version_minor": 0
      },
      "text/plain": [
       "  0%|          | 0/4 [00:00<?, ?it/s]"
      ]
     },
     "metadata": {},
     "output_type": "display_data"
    },
    {
     "name": "stdout",
     "output_type": "stream",
     "text": [
      "No. full successful runs: 4/4\n",
      "AP_tot\n"
     ]
    },
    {
     "data": {
      "application/vnd.jupyter.widget-view+json": {
       "model_id": "efb5b3733ab1473cac39cef5d87da96b",
       "version_major": 2,
       "version_minor": 0
      },
      "text/plain": [
       "  0%|          | 0/4 [00:00<?, ?it/s]"
      ]
     },
     "metadata": {},
     "output_type": "display_data"
    },
    {
     "name": "stdout",
     "output_type": "stream",
     "text": [
      "No. full successful runs: 3/4\n",
      "O2ext\n"
     ]
    },
    {
     "data": {
      "application/vnd.jupyter.widget-view+json": {
       "model_id": "c167cc37f59a48509851d9ed13ab0913",
       "version_major": 2,
       "version_minor": 0
      },
      "text/plain": [
       "  0%|          | 0/4 [00:00<?, ?it/s]"
      ]
     },
     "metadata": {},
     "output_type": "display_data"
    },
    {
     "name": "stdout",
     "output_type": "stream",
     "text": [
      "No. full successful runs: 4/4\n",
      "bHi\n"
     ]
    },
    {
     "data": {
      "application/vnd.jupyter.widget-view+json": {
       "model_id": "3dd3ac90a96c4433bbc2067186a4ecaf",
       "version_major": 2,
       "version_minor": 0
      },
      "text/plain": [
       "  0%|          | 0/4 [00:00<?, ?it/s]"
      ]
     },
     "metadata": {},
     "output_type": "display_data"
    },
    {
     "name": "stdout",
     "output_type": "stream",
     "text": [
      "No. full successful runs: 4/4\n",
      "bHo\n"
     ]
    },
    {
     "data": {
      "application/vnd.jupyter.widget-view+json": {
       "model_id": "f2eaaded5e39424b81f9bd78b303e374",
       "version_major": 2,
       "version_minor": 0
      },
      "text/plain": [
       "  0%|          | 0/4 [00:00<?, ?it/s]"
      ]
     },
     "metadata": {},
     "output_type": "display_data"
    },
    {
     "name": "stdout",
     "output_type": "stream",
     "text": [
      "No. full successful runs: 4/4\n",
      "cf_lumen\n"
     ]
    },
    {
     "data": {
      "application/vnd.jupyter.widget-view+json": {
       "model_id": "39d24a5230364399bb7ff1caa5e83eaf",
       "version_major": 2,
       "version_minor": 0
      },
      "text/plain": [
       "  0%|          | 0/4 [00:00<?, ?it/s]"
      ]
     },
     "metadata": {},
     "output_type": "display_data"
    },
    {
     "name": "stdout",
     "output_type": "stream",
     "text": [
      "No. full successful runs: 4/4\n",
      "cf_cytoplasm\n"
     ]
    },
    {
     "data": {
      "application/vnd.jupyter.widget-view+json": {
       "model_id": "208c5ef4ee8f47e3b7cddd3d9aaa4f20",
       "version_major": 2,
       "version_minor": 0
      },
      "text/plain": [
       "  0%|          | 0/4 [00:00<?, ?it/s]"
      ]
     },
     "metadata": {},
     "output_type": "display_data"
    },
    {
     "name": "stdout",
     "output_type": "stream",
     "text": [
      "No. full successful runs: 4/4\n",
      "fCin\n"
     ]
    },
    {
     "data": {
      "application/vnd.jupyter.widget-view+json": {
       "model_id": "85fa2816e59741e8bea7b34afc99fd20",
       "version_major": 2,
       "version_minor": 0
      },
      "text/plain": [
       "  0%|          | 0/4 [00:00<?, ?it/s]"
      ]
     },
     "metadata": {},
     "output_type": "display_data"
    },
    {
     "name": "stdout",
     "output_type": "stream",
     "text": [
      "No. full successful runs: 4/4\n",
      "kH0\n"
     ]
    },
    {
     "data": {
      "application/vnd.jupyter.widget-view+json": {
       "model_id": "829a9c32fa594814879096c601dad248",
       "version_major": 2,
       "version_minor": 0
      },
      "text/plain": [
       "  0%|          | 0/4 [00:00<?, ?it/s]"
      ]
     },
     "metadata": {},
     "output_type": "display_data"
    },
    {
     "name": "stdout",
     "output_type": "stream",
     "text": [
      "No. full successful runs: 4/4\n",
      "kHst\n"
     ]
    },
    {
     "data": {
      "application/vnd.jupyter.widget-view+json": {
       "model_id": "daaa8461c1564e9f8fba7fa1c30bd904",
       "version_major": 2,
       "version_minor": 0
      },
      "text/plain": [
       "  0%|          | 0/4 [00:00<?, ?it/s]"
      ]
     },
     "metadata": {},
     "output_type": "display_data"
    },
    {
     "name": "stdout",
     "output_type": "stream",
     "text": [
      "No. full successful runs: 4/4\n",
      "kF\n"
     ]
    },
    {
     "data": {
      "application/vnd.jupyter.widget-view+json": {
       "model_id": "7f9d55fc4f4c4c35b1fb3a938ccbb1b9",
       "version_major": 2,
       "version_minor": 0
      },
      "text/plain": [
       "  0%|          | 0/4 [00:00<?, ?it/s]"
      ]
     },
     "metadata": {},
     "output_type": "display_data"
    },
    {
     "name": "stdout",
     "output_type": "stream",
     "text": [
      "No. full successful runs: 4/4\n",
      "k2\n"
     ]
    },
    {
     "data": {
      "application/vnd.jupyter.widget-view+json": {
       "model_id": "9ac0e3b5374a48f3bfae0d19f5e45d68",
       "version_major": 2,
       "version_minor": 0
      },
      "text/plain": [
       "  0%|          | 0/4 [00:00<?, ?it/s]"
      ]
     },
     "metadata": {},
     "output_type": "display_data"
    },
    {
     "name": "stdout",
     "output_type": "stream",
     "text": [
      "No. full successful runs: 4/4\n",
      "kPQred\n"
     ]
    },
    {
     "data": {
      "application/vnd.jupyter.widget-view+json": {
       "model_id": "9a25307d86104c4fb54b0997fa74ca0c",
       "version_major": 2,
       "version_minor": 0
      },
      "text/plain": [
       "  0%|          | 0/4 [00:00<?, ?it/s]"
      ]
     },
     "metadata": {},
     "output_type": "display_data"
    },
    {
     "name": "stdout",
     "output_type": "stream",
     "text": [
      "No. full successful runs: 4/4\n",
      "kPCox\n"
     ]
    },
    {
     "data": {
      "application/vnd.jupyter.widget-view+json": {
       "model_id": "4e27661e25ff4f93b05ceec5ac8f09dc",
       "version_major": 2,
       "version_minor": 0
      },
      "text/plain": [
       "  0%|          | 0/4 [00:00<?, ?it/s]"
      ]
     },
     "metadata": {},
     "output_type": "display_data"
    },
    {
     "name": "stdout",
     "output_type": "stream",
     "text": [
      "No. full successful runs: 4/4\n",
      "kFdred\n"
     ]
    },
    {
     "data": {
      "application/vnd.jupyter.widget-view+json": {
       "model_id": "57328588226e49af834b907202dd64cc",
       "version_major": 2,
       "version_minor": 0
      },
      "text/plain": [
       "  0%|          | 0/4 [00:00<?, ?it/s]"
      ]
     },
     "metadata": {},
     "output_type": "display_data"
    },
    {
     "name": "stdout",
     "output_type": "stream",
     "text": [
      "No. full successful runs: 4/4\n",
      "k_F1\n"
     ]
    },
    {
     "data": {
      "application/vnd.jupyter.widget-view+json": {
       "model_id": "37f95d4de5ff47eab15cfed19773550b",
       "version_major": 2,
       "version_minor": 0
      },
      "text/plain": [
       "  0%|          | 0/4 [00:00<?, ?it/s]"
      ]
     },
     "metadata": {},
     "output_type": "display_data"
    },
    {
     "name": "stdout",
     "output_type": "stream",
     "text": [
      "No. full successful runs: 4/4\n",
      "k_ox1\n"
     ]
    },
    {
     "data": {
      "application/vnd.jupyter.widget-view+json": {
       "model_id": "5ac81a989499432cb0324f607c460a54",
       "version_major": 2,
       "version_minor": 0
      },
      "text/plain": [
       "  0%|          | 0/4 [00:00<?, ?it/s]"
      ]
     },
     "metadata": {},
     "output_type": "display_data"
    },
    {
     "name": "stdout",
     "output_type": "stream",
     "text": [
      "No. full successful runs: 4/4\n",
      "k_Q\n"
     ]
    },
    {
     "data": {
      "application/vnd.jupyter.widget-view+json": {
       "model_id": "94ade2b597a94ea9a941a7f2b54b1326",
       "version_major": 2,
       "version_minor": 0
      },
      "text/plain": [
       "  0%|          | 0/4 [00:00<?, ?it/s]"
      ]
     },
     "metadata": {},
     "output_type": "display_data"
    },
    {
     "name": "stdout",
     "output_type": "stream",
     "text": [
      "No. full successful runs: 4/4\n",
      "k_NDH\n"
     ]
    },
    {
     "data": {
      "application/vnd.jupyter.widget-view+json": {
       "model_id": "07f84a945f114653a7fb0275bf139bea",
       "version_major": 2,
       "version_minor": 0
      },
      "text/plain": [
       "  0%|          | 0/4 [00:00<?, ?it/s]"
      ]
     },
     "metadata": {},
     "output_type": "display_data"
    },
    {
     "name": "stdout",
     "output_type": "stream",
     "text": [
      "No. full successful runs: 4/4\n",
      "k_SDH\n"
     ]
    },
    {
     "data": {
      "application/vnd.jupyter.widget-view+json": {
       "model_id": "de7aa33928254a3ea9a321d54267a007",
       "version_major": 2,
       "version_minor": 0
      },
      "text/plain": [
       "  0%|          | 0/4 [00:00<?, ?it/s]"
      ]
     },
     "metadata": {},
     "output_type": "display_data"
    },
    {
     "name": "stdout",
     "output_type": "stream",
     "text": [
      "No. full successful runs: 4/4\n",
      "k_FN_fwd\n"
     ]
    },
    {
     "data": {
      "application/vnd.jupyter.widget-view+json": {
       "model_id": "88bf7e215531413fb9eec2aeaeabee38",
       "version_major": 2,
       "version_minor": 0
      },
      "text/plain": [
       "  0%|          | 0/4 [00:00<?, ?it/s]"
      ]
     },
     "metadata": {},
     "output_type": "display_data"
    },
    {
     "name": "stdout",
     "output_type": "stream",
     "text": [
      "No. full successful runs: 4/4\n",
      "k_FN_rev\n"
     ]
    },
    {
     "data": {
      "application/vnd.jupyter.widget-view+json": {
       "model_id": "53825ffc3ec349e0b226795ed871e1cd",
       "version_major": 2,
       "version_minor": 0
      },
      "text/plain": [
       "  0%|          | 0/4 [00:00<?, ?it/s]"
      ]
     },
     "metadata": {},
     "output_type": "display_data"
    },
    {
     "name": "stdout",
     "output_type": "stream",
     "text": [
      "No. full successful runs: 4/4\n",
      "k_pass\n"
     ]
    },
    {
     "data": {
      "application/vnd.jupyter.widget-view+json": {
       "model_id": "95383475b29248deaad118e4785b0032",
       "version_major": 2,
       "version_minor": 0
      },
      "text/plain": [
       "  0%|          | 0/4 [00:00<?, ?it/s]"
      ]
     },
     "metadata": {},
     "output_type": "display_data"
    },
    {
     "name": "stdout",
     "output_type": "stream",
     "text": [
      "No. full successful runs: 4/4\n",
      "k_aa\n"
     ]
    },
    {
     "data": {
      "application/vnd.jupyter.widget-view+json": {
       "model_id": "4fcfdd0816874bc9ad5ad82b55f679a5",
       "version_major": 2,
       "version_minor": 0
      },
      "text/plain": [
       "  0%|          | 0/4 [00:00<?, ?it/s]"
      ]
     },
     "metadata": {},
     "output_type": "display_data"
    },
    {
     "name": "stdout",
     "output_type": "stream",
     "text": [
      "No. full successful runs: 4/4\n",
      "kRespiration\n"
     ]
    },
    {
     "data": {
      "application/vnd.jupyter.widget-view+json": {
       "model_id": "66a3dc0431c046a2ba9634bbff2c3c32",
       "version_major": 2,
       "version_minor": 0
      },
      "text/plain": [
       "  0%|          | 0/4 [00:00<?, ?it/s]"
      ]
     },
     "metadata": {},
     "output_type": "display_data"
    },
    {
     "name": "stdout",
     "output_type": "stream",
     "text": [
      "No. full successful runs: 4/4\n",
      "kO2out\n"
     ]
    },
    {
     "data": {
      "application/vnd.jupyter.widget-view+json": {
       "model_id": "0a1181f860d643adb224f0ae3aeafb1f",
       "version_major": 2,
       "version_minor": 0
      },
      "text/plain": [
       "  0%|          | 0/4 [00:00<?, ?it/s]"
      ]
     },
     "metadata": {},
     "output_type": "display_data"
    },
    {
     "name": "stdout",
     "output_type": "stream",
     "text": [
      "No. full successful runs: 3/4\n",
      "kCCM\n"
     ]
    },
    {
     "data": {
      "application/vnd.jupyter.widget-view+json": {
       "model_id": "b2d0adc188c4478cbb2b80a2317da3b6",
       "version_major": 2,
       "version_minor": 0
      },
      "text/plain": [
       "  0%|          | 0/4 [00:00<?, ?it/s]"
      ]
     },
     "metadata": {},
     "output_type": "display_data"
    },
    {
     "name": "stdout",
     "output_type": "stream",
     "text": [
      "No. full successful runs: 4/4\n",
      "fluo_influence\n"
     ]
    },
    {
     "data": {
      "application/vnd.jupyter.widget-view+json": {
       "model_id": "e48be1dc43a044078fc25c61dcd35bef",
       "version_major": 2,
       "version_minor": 0
      },
      "text/plain": [
       "  0%|          | 0/4 [00:00<?, ?it/s]"
      ]
     },
     "metadata": {},
     "output_type": "display_data"
    },
    {
     "name": "stdout",
     "output_type": "stream",
     "text": [
      "No. full successful runs: 4/4\n",
      "PBS_free\n"
     ]
    },
    {
     "data": {
      "application/vnd.jupyter.widget-view+json": {
       "model_id": "de5f18d8e1b143c1a1131ab332e0644b",
       "version_major": 2,
       "version_minor": 0
      },
      "text/plain": [
       "  0%|          | 0/4 [00:00<?, ?it/s]"
      ]
     },
     "metadata": {},
     "output_type": "display_data"
    },
    {
     "name": "stdout",
     "output_type": "stream",
     "text": [
      "No. full successful runs: 3/4\n",
      "PBS_PS1\n"
     ]
    },
    {
     "data": {
      "application/vnd.jupyter.widget-view+json": {
       "model_id": "df421c605ef543228c39fde4b365e988",
       "version_major": 2,
       "version_minor": 0
      },
      "text/plain": [
       "  0%|          | 0/4 [00:00<?, ?it/s]"
      ]
     },
     "metadata": {},
     "output_type": "display_data"
    },
    {
     "name": "stdout",
     "output_type": "stream",
     "text": [
      "No. full successful runs: 4/4\n",
      "PBS_PS2\n"
     ]
    },
    {
     "data": {
      "application/vnd.jupyter.widget-view+json": {
       "model_id": "3ccc1cab94f24e5f9ed50325bb8dac6d",
       "version_major": 2,
       "version_minor": 0
      },
      "text/plain": [
       "  0%|          | 0/4 [00:00<?, ?it/s]"
      ]
     },
     "metadata": {},
     "output_type": "display_data"
    },
    {
     "name": "stdout",
     "output_type": "stream",
     "text": [
      "No. full successful runs: 3/4\n",
      "lcf\n"
     ]
    },
    {
     "data": {
      "application/vnd.jupyter.widget-view+json": {
       "model_id": "01e49daa845f4aacb6bc06c2b1625f48",
       "version_major": 2,
       "version_minor": 0
      },
      "text/plain": [
       "  0%|          | 0/4 [00:00<?, ?it/s]"
      ]
     },
     "metadata": {},
     "output_type": "display_data"
    },
    {
     "name": "stdout",
     "output_type": "stream",
     "text": [
      "No. full successful runs: 4/4\n",
      "KMPGA\n"
     ]
    },
    {
     "data": {
      "application/vnd.jupyter.widget-view+json": {
       "model_id": "a5f151a376e948d3bb16d9078138d6e7",
       "version_major": 2,
       "version_minor": 0
      },
      "text/plain": [
       "  0%|          | 0/4 [00:00<?, ?it/s]"
      ]
     },
     "metadata": {},
     "output_type": "display_data"
    },
    {
     "name": "stdout",
     "output_type": "stream",
     "text": [
      "No. full successful runs: 4/4\n",
      "kATPsynth\n"
     ]
    },
    {
     "data": {
      "application/vnd.jupyter.widget-view+json": {
       "model_id": "baf136c8ea284f0e9f11722595764aee",
       "version_major": 2,
       "version_minor": 0
      },
      "text/plain": [
       "  0%|          | 0/4 [00:00<?, ?it/s]"
      ]
     },
     "metadata": {},
     "output_type": "display_data"
    },
    {
     "name": "stdout",
     "output_type": "stream",
     "text": [
      "No. full successful runs: 4/4\n",
      "Pi_mol\n"
     ]
    },
    {
     "data": {
      "application/vnd.jupyter.widget-view+json": {
       "model_id": "2640c832648e458e9a2866271faefd43",
       "version_major": 2,
       "version_minor": 0
      },
      "text/plain": [
       "  0%|          | 0/4 [00:00<?, ?it/s]"
      ]
     },
     "metadata": {},
     "output_type": "display_data"
    },
    {
     "name": "stdout",
     "output_type": "stream",
     "text": [
      "No. full successful runs: 4/4\n",
      "HPR\n"
     ]
    },
    {
     "data": {
      "application/vnd.jupyter.widget-view+json": {
       "model_id": "71b1a4b0c26f4aec878de17d72607bc8",
       "version_major": 2,
       "version_minor": 0
      },
      "text/plain": [
       "  0%|          | 0/4 [00:00<?, ?it/s]"
      ]
     },
     "metadata": {},
     "output_type": "display_data"
    },
    {
     "name": "stdout",
     "output_type": "stream",
     "text": [
      "No. full successful runs: 2/4\n",
      "kATPconsumption\n"
     ]
    },
    {
     "data": {
      "application/vnd.jupyter.widget-view+json": {
       "model_id": "c4905b99c93d4de780fe1f0d191e8bb3",
       "version_major": 2,
       "version_minor": 0
      },
      "text/plain": [
       "  0%|          | 0/4 [00:00<?, ?it/s]"
      ]
     },
     "metadata": {},
     "output_type": "display_data"
    },
    {
     "name": "stdout",
     "output_type": "stream",
     "text": [
      "No. full successful runs: 4/4\n",
      "kNADHconsumption\n"
     ]
    },
    {
     "data": {
      "application/vnd.jupyter.widget-view+json": {
       "model_id": "6d61661fd41b470084d08bfb854384c5",
       "version_major": 2,
       "version_minor": 0
      },
      "text/plain": [
       "  0%|          | 0/4 [00:00<?, ?it/s]"
      ]
     },
     "metadata": {},
     "output_type": "display_data"
    },
    {
     "name": "stdout",
     "output_type": "stream",
     "text": [
      "No. full successful runs: 4/4\n",
      "vOxy_max\n"
     ]
    },
    {
     "data": {
      "application/vnd.jupyter.widget-view+json": {
       "model_id": "3d74820288384ac1a76162cfd882e0ba",
       "version_major": 2,
       "version_minor": 0
      },
      "text/plain": [
       "  0%|          | 0/4 [00:00<?, ?it/s]"
      ]
     },
     "metadata": {},
     "output_type": "display_data"
    },
    {
     "name": "stdout",
     "output_type": "stream",
     "text": [
      "No. full successful runs: 4/4\n",
      "KMATP\n"
     ]
    },
    {
     "data": {
      "application/vnd.jupyter.widget-view+json": {
       "model_id": "bd485d8b14844c84bdcd21cb6f326714",
       "version_major": 2,
       "version_minor": 0
      },
      "text/plain": [
       "  0%|          | 0/4 [00:00<?, ?it/s]"
      ]
     },
     "metadata": {},
     "output_type": "display_data"
    },
    {
     "name": "stdout",
     "output_type": "stream",
     "text": [
      "No. full successful runs: 3/4\n",
      "KMNADPH\n"
     ]
    },
    {
     "data": {
      "application/vnd.jupyter.widget-view+json": {
       "model_id": "307658f181c74aa8bf633352bae2e321",
       "version_major": 2,
       "version_minor": 0
      },
      "text/plain": [
       "  0%|          | 0/4 [00:00<?, ?it/s]"
      ]
     },
     "metadata": {},
     "output_type": "display_data"
    },
    {
     "name": "stdout",
     "output_type": "stream",
     "text": [
      "No. full successful runs: 4/4\n",
      "KMCO2\n"
     ]
    },
    {
     "data": {
      "application/vnd.jupyter.widget-view+json": {
       "model_id": "a895714410234a9cabf5865b94646510",
       "version_major": 2,
       "version_minor": 0
      },
      "text/plain": [
       "  0%|          | 0/4 [00:00<?, ?it/s]"
      ]
     },
     "metadata": {},
     "output_type": "display_data"
    },
    {
     "name": "stdout",
     "output_type": "stream",
     "text": [
      "No. full successful runs: 4/4\n",
      "KIO2\n"
     ]
    },
    {
     "data": {
      "application/vnd.jupyter.widget-view+json": {
       "model_id": "7cc06ffff36848f0849124ad0562cd47",
       "version_major": 2,
       "version_minor": 0
      },
      "text/plain": [
       "  0%|          | 0/4 [00:00<?, ?it/s]"
      ]
     },
     "metadata": {},
     "output_type": "display_data"
    },
    {
     "name": "stdout",
     "output_type": "stream",
     "text": [
      "No. full successful runs: 4/4\n",
      "KMO2\n"
     ]
    },
    {
     "data": {
      "application/vnd.jupyter.widget-view+json": {
       "model_id": "af382414d3354672af326b08b01ac0ad",
       "version_major": 2,
       "version_minor": 0
      },
      "text/plain": [
       "  0%|          | 0/4 [00:00<?, ?it/s]"
      ]
     },
     "metadata": {},
     "output_type": "display_data"
    },
    {
     "name": "stdout",
     "output_type": "stream",
     "text": [
      "No. full successful runs: 4/4\n",
      "KICO2\n"
     ]
    },
    {
     "data": {
      "application/vnd.jupyter.widget-view+json": {
       "model_id": "454cd0c3eee7480d9ddb6808ad06e7e8",
       "version_major": 2,
       "version_minor": 0
      },
      "text/plain": [
       "  0%|          | 0/4 [00:00<?, ?it/s]"
      ]
     },
     "metadata": {},
     "output_type": "display_data"
    },
    {
     "name": "stdout",
     "output_type": "stream",
     "text": [
      "No. full successful runs: 4/4\n",
      "vCBB_max\n"
     ]
    },
    {
     "data": {
      "application/vnd.jupyter.widget-view+json": {
       "model_id": "27219889924a4076865bbbd0edb5477f",
       "version_major": 2,
       "version_minor": 0
      },
      "text/plain": [
       "  0%|          | 0/4 [00:00<?, ?it/s]"
      ]
     },
     "metadata": {},
     "output_type": "display_data"
    },
    {
     "name": "stdout",
     "output_type": "stream",
     "text": [
      "No. full successful runs: 4/4\n",
      "kPR\n"
     ]
    },
    {
     "data": {
      "application/vnd.jupyter.widget-view+json": {
       "model_id": "fa3df59ac0c34cdaa2695e6f4a1608b8",
       "version_major": 2,
       "version_minor": 0
      },
      "text/plain": [
       "  0%|          | 0/4 [00:00<?, ?it/s]"
      ]
     },
     "metadata": {},
     "output_type": "display_data"
    },
    {
     "name": "stdout",
     "output_type": "stream",
     "text": [
      "No. full successful runs: 4/4\n",
      "kUnquench\n"
     ]
    },
    {
     "data": {
      "application/vnd.jupyter.widget-view+json": {
       "model_id": "36c01aa77657467481e7212a2a22cf6a",
       "version_major": 2,
       "version_minor": 0
      },
      "text/plain": [
       "  0%|          | 0/4 [00:00<?, ?it/s]"
      ]
     },
     "metadata": {},
     "output_type": "display_data"
    },
    {
     "name": "stdout",
     "output_type": "stream",
     "text": [
      "No. full successful runs: 4/4\n",
      "KMUnquench\n"
     ]
    },
    {
     "data": {
      "application/vnd.jupyter.widget-view+json": {
       "model_id": "4e159c47b5fc45a3baf52f8e4eacd81c",
       "version_major": 2,
       "version_minor": 0
      },
      "text/plain": [
       "  0%|          | 0/4 [00:00<?, ?it/s]"
      ]
     },
     "metadata": {},
     "output_type": "display_data"
    },
    {
     "name": "stdout",
     "output_type": "stream",
     "text": [
      "No. full successful runs: 3/4\n",
      "kQuench\n"
     ]
    },
    {
     "data": {
      "application/vnd.jupyter.widget-view+json": {
       "model_id": "a381d5e0a88e4295b089d6cacd6aad7c",
       "version_major": 2,
       "version_minor": 0
      },
      "text/plain": [
       "  0%|          | 0/4 [00:00<?, ?it/s]"
      ]
     },
     "metadata": {},
     "output_type": "display_data"
    },
    {
     "name": "stdout",
     "output_type": "stream",
     "text": [
      "No. full successful runs: 3/4\n",
      "KHillFdred\n"
     ]
    },
    {
     "data": {
      "application/vnd.jupyter.widget-view+json": {
       "model_id": "24ddebdf61434fb883db89461ce66173",
       "version_major": 2,
       "version_minor": 0
      },
      "text/plain": [
       "  0%|          | 0/4 [00:00<?, ?it/s]"
      ]
     },
     "metadata": {},
     "output_type": "display_data"
    },
    {
     "name": "stdout",
     "output_type": "stream",
     "text": [
      "No. full successful runs: 4/4\n",
      "nHillFdred\n"
     ]
    },
    {
     "data": {
      "application/vnd.jupyter.widget-view+json": {
       "model_id": "a6635e9b2a5141f58452e2694a242488",
       "version_major": 2,
       "version_minor": 0
      },
      "text/plain": [
       "  0%|          | 0/4 [00:00<?, ?it/s]"
      ]
     },
     "metadata": {},
     "output_type": "display_data"
    },
    {
     "name": "stdout",
     "output_type": "stream",
     "text": [
      "No. full successful runs: 4/4\n",
      "k_O2\n"
     ]
    },
    {
     "data": {
      "application/vnd.jupyter.widget-view+json": {
       "model_id": "93fe5fad5b2a464ea3d20694acea0aff",
       "version_major": 2,
       "version_minor": 0
      },
      "text/plain": [
       "  0%|          | 0/4 [00:00<?, ?it/s]"
      ]
     },
     "metadata": {},
     "output_type": "display_data"
    },
    {
     "name": "stdout",
     "output_type": "stream",
     "text": [
      "No. full successful runs: 4/4\n",
      "cChl\n"
     ]
    },
    {
     "data": {
      "application/vnd.jupyter.widget-view+json": {
       "model_id": "136c48466874424c8e692fb78efddbf6",
       "version_major": 2,
       "version_minor": 0
      },
      "text/plain": [
       "  0%|          | 0/4 [00:00<?, ?it/s]"
      ]
     },
     "metadata": {},
     "output_type": "display_data"
    },
    {
     "name": "stdout",
     "output_type": "stream",
     "text": [
      "No. full successful runs: 4/4\n",
      "CO2ext_pp\n"
     ]
    },
    {
     "data": {
      "application/vnd.jupyter.widget-view+json": {
       "model_id": "564682dd1aaf4355b4adeec5cf223fde",
       "version_major": 2,
       "version_minor": 0
      },
      "text/plain": [
       "  0%|          | 0/4 [00:00<?, ?it/s]"
      ]
     },
     "metadata": {},
     "output_type": "display_data"
    },
    {
     "name": "stdout",
     "output_type": "stream",
     "text": [
      "No. full successful runs: 4/4\n",
      "S\n"
     ]
    },
    {
     "data": {
      "application/vnd.jupyter.widget-view+json": {
       "model_id": "22a90929f5854a6189c37ff04b094455",
       "version_major": 2,
       "version_minor": 0
      },
      "text/plain": [
       "  0%|          | 0/4 [00:00<?, ?it/s]"
      ]
     },
     "metadata": {},
     "output_type": "display_data"
    },
    {
     "name": "stdout",
     "output_type": "stream",
     "text": [
      "No. full successful runs: 4/4\n",
      "kCBBactivation\n"
     ]
    },
    {
     "data": {
      "application/vnd.jupyter.widget-view+json": {
       "model_id": "1cb73ff971b4493b9703c84ab3a7caa3",
       "version_major": 2,
       "version_minor": 0
      },
      "text/plain": [
       "  0%|          | 0/4 [00:00<?, ?it/s]"
      ]
     },
     "metadata": {},
     "output_type": "display_data"
    },
    {
     "name": "stdout",
     "output_type": "stream",
     "text": [
      "No. full successful runs: 3/4\n",
      "KMFdred\n"
     ]
    },
    {
     "data": {
      "application/vnd.jupyter.widget-view+json": {
       "model_id": "93d93164a0f9442ca96d1702a00d595f",
       "version_major": 2,
       "version_minor": 0
      },
      "text/plain": [
       "  0%|          | 0/4 [00:00<?, ?it/s]"
      ]
     },
     "metadata": {},
     "output_type": "display_data"
    },
    {
     "name": "stdout",
     "output_type": "stream",
     "text": [
      "No. full successful runs: 4/4\n",
      "kOCPactivation\n"
     ]
    },
    {
     "data": {
      "application/vnd.jupyter.widget-view+json": {
       "model_id": "71572cd87ff24f8686106d0dcc9fda8b",
       "version_major": 2,
       "version_minor": 0
      },
      "text/plain": [
       "  0%|          | 0/4 [00:00<?, ?it/s]"
      ]
     },
     "metadata": {},
     "output_type": "display_data"
    },
    {
     "name": "stdout",
     "output_type": "stream",
     "text": [
      "No. full successful runs: 4/4\n",
      "kOCPdeactivation\n"
     ]
    },
    {
     "data": {
      "application/vnd.jupyter.widget-view+json": {
       "model_id": "b094efbb10fa4766b451927642ac0799",
       "version_major": 2,
       "version_minor": 0
      },
      "text/plain": [
       "  0%|          | 0/4 [00:00<?, ?it/s]"
      ]
     },
     "metadata": {},
     "output_type": "display_data"
    },
    {
     "name": "stdout",
     "output_type": "stream",
     "text": [
      "No. full successful runs: 3/4\n",
      "OCPmax\n"
     ]
    },
    {
     "data": {
      "application/vnd.jupyter.widget-view+json": {
       "model_id": "34318e9475d14a58b8074323b3f21607",
       "version_major": 2,
       "version_minor": 0
      },
      "text/plain": [
       "  0%|          | 0/4 [00:00<?, ?it/s]"
      ]
     },
     "metadata": {},
     "output_type": "display_data"
    },
    {
     "name": "stdout",
     "output_type": "stream",
     "text": [
      "No. full successful runs: 4/4\n",
      "vNQ_max\n"
     ]
    },
    {
     "data": {
      "application/vnd.jupyter.widget-view+json": {
       "model_id": "c7676db40a3d4009a8bb6d65cedaf087",
       "version_major": 2,
       "version_minor": 0
      },
      "text/plain": [
       "  0%|          | 0/4 [00:00<?, ?it/s]"
      ]
     },
     "metadata": {},
     "output_type": "display_data"
    },
    {
     "name": "stdout",
     "output_type": "stream",
     "text": [
      "No. full successful runs: 4/4\n",
      "KMNQ_Qox\n"
     ]
    },
    {
     "data": {
      "application/vnd.jupyter.widget-view+json": {
       "model_id": "5775bbb6b66d4791b34e7a9b1ea4bf25",
       "version_major": 2,
       "version_minor": 0
      },
      "text/plain": [
       "  0%|          | 0/4 [00:00<?, ?it/s]"
      ]
     },
     "metadata": {},
     "output_type": "display_data"
    },
    {
     "name": "stdout",
     "output_type": "stream",
     "text": [
      "No. full successful runs: 4/4\n",
      "KMNQ_Fdred\n"
     ]
    },
    {
     "data": {
      "application/vnd.jupyter.widget-view+json": {
       "model_id": "fb3042530b374fe7bd6f0b47616700d8",
       "version_major": 2,
       "version_minor": 0
      },
      "text/plain": [
       "  0%|          | 0/4 [00:00<?, ?it/s]"
      ]
     },
     "metadata": {},
     "output_type": "display_data"
    },
    {
     "name": "stdout",
     "output_type": "stream",
     "text": [
      "No. full successful runs: 3/4\n"
     ]
    }
   ],
   "source": [
    "for i, which_parameter_range in enumerate(which_parameter_ranges):\n",
    "    print(which_parameter_range)\n",
    "    parameter_ranges = {k:v for k,v in all_parameter_ranges.items() if k in which_parameter_range}\n",
    "\n",
    "    # Create the parameters\n",
    "    params = get_parameter_mutations(n_mutations+include_default_model, parameter_ranges, rng, m)\n",
    "\n",
    "    # Include the default model in first position\n",
    "    if include_default_model:\n",
    "        params.loc[0] = pd.Series({k: m.parameters[k] for k in params.columns})\n",
    "\n",
    "    # Initialise container for residuals\n",
    "    results = pd.Series(index=np.arange(n_mutations+include_default_model), dtype=float)\n",
    "\n",
    "    # Catch unnecessary warnings:\n",
    "    with warnings.catch_warnings() as w:\n",
    "        # Cause all warnings to always be triggered.\n",
    "        # warnings.simplefilter(\"ignore\", category=RuntimeWarning)\n",
    "        warnings.simplefilter(\"ignore\")\n",
    "        \n",
    "        # Execute the thread_function for each parameter input\n",
    "        with tqdm(total=n_mutations+include_default_model) as pbar:\n",
    "            with pebble.ProcessPool(max_workers=n_workers) as pool:\n",
    "                try:\n",
    "                    for index, res in pool.map(\n",
    "                        partial(\n",
    "                            thread_function,\n",
    "                            intermediate_results_file=f\"../out/{file_prefix}_intermediate.csv\",\n",
    "                            logger_filename=f\"../out/{file_prefix}\",\n",
    "                        ),\n",
    "                        params.iterrows(),\n",
    "                        timeout=timeout,\n",
    "                    ).result():\n",
    "                        pbar.update(1)\n",
    "                        results[index] = res\n",
    "\n",
    "                except futures.TimeoutError:\n",
    "                    pbar.update(1)\n",
    "                except Exception as e:\n",
    "                    pbar.update(1)\n",
    "                    print(e)\n",
    "                finally:\n",
    "                    pbar.update(1)\n",
    "\n",
    "        # Save the results\n",
    "        # results.to_csv(f\"../out/{file_prefix}_results.csv\")\n",
    "        all_results.append(results)\n",
    "\n",
    "    print(f\"No. full successful runs: {np.invert(np.isinf(results)).sum() - include_default_model}/{n_mutations}\")"
   ]
  },
  {
   "cell_type": "code",
   "execution_count": 14,
   "metadata": {},
   "outputs": [],
   "source": [
    "with open(Path(f\"../Results/{file_prefix}_results.pickle\",), \"wb\") as f:\n",
    "    pickle.dump(results, f)"
   ]
  },
  {
   "cell_type": "code",
   "execution_count": 15,
   "metadata": {},
   "outputs": [],
   "source": [
    "# with open(Path(f\"../Results/{file_prefix}_results.pickle\",), \"rb\") as f:\n",
    "#     test = pickle.load(f)"
   ]
  }
 ],
 "metadata": {
  "kernelspec": {
   "display_name": "synechocystis-etc-2022",
   "language": "python",
   "name": "python3"
  },
  "language_info": {
   "codemirror_mode": {
    "name": "ipython",
    "version": 3
   },
   "file_extension": ".py",
   "mimetype": "text/x-python",
   "name": "python",
   "nbconvert_exporter": "python",
   "pygments_lexer": "ipython3",
   "version": "3.11.0"
  }
 },
 "nbformat": 4,
 "nbformat_minor": 2
}

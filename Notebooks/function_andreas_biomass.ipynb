{
 "cells": [
  {
   "cell_type": "markdown",
   "metadata": {},
   "source": [
    "# Photosynthesis estimation function\n",
    "\n",
    "## Goal\n",
    "\n",
    "**Estimate the photosynthetic output of an average *Synechocystis* sp. PCC 6803 cell as input into another model**\n",
    "\n",
    "## Plan\n",
    "\n",
    "First option: Use the submitted model version. The model is unalterend (not reduced in size) and the cellular chlorophyll a concentration is only considered for normalizing the pigment concentrations.\n",
    "\n",
    "### Input\n",
    "- **Light intensity & spectrum (400-700 nm)**\n",
    "- Pigment concentrations: **Chlorophyll A, beta-carotene (carotenoids), phycocyanin, and allophycocyanin**\n",
    "- Use the **measured absorption spectrum to calculate the light attenuation**\n",
    "- NOT Chlorophyll concentration in sample cuvette BUT **Cell density in cells/ml**\n",
    "\n",
    "### Output\n",
    "\n",
    "NOT Concentrations BUT **Rates of ATP, NADPH, 3PGA, Fd_red**"
   ]
  },
  {
   "cell_type": "markdown",
   "metadata": {},
   "source": [
    "## Predict the rates"
   ]
  },
  {
   "cell_type": "code",
   "execution_count": 1,
   "metadata": {},
   "outputs": [],
   "source": [
    "import numpy as np\n",
    "import pandas as pd\n",
    "from modelbase.ode import Model, Simulator\n",
    "from modelbase.ode import ratefunctions as rf\n",
    "\n",
    "import sys\n",
    "sys.path.append(\"../Code\")\n",
    "import functions_light_absorption as lip\n",
    "from function_predict_simulated_ssrates_biomass import get_simulated_ssrates, get_influx_rate_estimations\n",
    "from parameters import p"
   ]
  },
  {
   "cell_type": "code",
   "execution_count": null,
   "metadata": {},
   "outputs": [],
   "source": [
    "# Get the rates under 100 µE of solar light with default model pigment content \n",
    "# and assuming we want 10% of the maximal ATP, 50% maximal NADPH, 10 maximal Fd_red and 30% maximal 3PGA production\n",
    "rates = get_simulated_ssrates(\n",
    "    lip.light_spectra(\"solar\", 100),\n",
    "    pigment_content=p[\"pigment_content\"],\n",
    ")\n",
    "rates"
   ]
  },
  {
   "cell_type": "markdown",
   "metadata": {},
   "source": [
    "## Interface between Andreas model and the prediction function"
   ]
  },
  {
   "cell_type": "code",
   "execution_count": null,
   "metadata": {},
   "outputs": [],
   "source": [
    "# Example output\n",
    "# The rows contain the flux of a certain production reaction\n",
    "# The columns are the fluxes of all metabolites determined for a model where the compound in the name was drained via a sink reaction.\n",
    "# Other meatbolites were only consumed if the metabolite pool was filled to over 95% (analogous to synechocystis ETC paper)\n",
    "rates = get_influx_rate_estimations(\n",
    "        light_intensity=100, # Model\n",
    "        cell_density=1e8, # [cells ml^-1]\n",
    "        chlorophyll=np.array([10000]), # [µmol l^-1]\n",
    "        carotenoids=np.array([3000]), # [µmol l^-1]\n",
    "        phycocyanin=None, # [µmol l^-1]\n",
    "        allophycocyanin=None, # [µmol l^-1]\n",
    "        beta_carotene_fraction=0.26, # [rel] fraction of beta-carotene of cellular carotenoids\n",
    "        ps_ratio=5.9,\n",
    "        sample_depth_m=0.01, # [m] Assuming a cuvette with 1 cm diameter\n",
    "    )\n",
    "rates"
   ]
  },
  {
   "cell_type": "markdown",
   "metadata": {},
   "source": [
    "## Mock model to add the funciton dynamically\n",
    "The function calculates the steady-state input rates at every time point.\n",
    "For that, I calculate the fraction of each metabolite pool the this not filled (e.g. ADP in the ATP pool).\n",
    "Then I use the relative size of these \"used-up\" metabolite pools as the ratios that are the input to the rate estimation function.\n",
    "The fractions are used to scale the maximal steady-state produciton rates for each metabolite that I simulated under the given conditions.\n",
    "\n",
    "The pigment contents are currently assumed fixed and a few tweaks have to be made to the funcitons to make them dynamic."
   ]
  },
  {
   "cell_type": "code",
   "execution_count": 20,
   "metadata": {},
   "outputs": [],
   "source": [
    "# Create a mock model\n",
    "m = Model()\n",
    "# Add the compounds\n",
    "m.add_compounds([\"ATP\", \"NADPH\", \"3PGA\", \"Fd_red\"])\n",
    "\n",
    "# Add total pools or maximal concentrations\n",
    "totals = {\"ATP\":\"ATP_tot\", \"NADPH\":\"NADP_tot\", \"3PGA\":\"3PGA_max\", \"Fd_red\":\"Fd_tot\"}\n",
    "\n",
    "p = {\n",
    "    \"k_ATP\": 5,\n",
    "    \"k_NADPH\": 5,\n",
    "    \"k_3PGA\": 5,\n",
    "    \"k_Fd_red\": 5,\n",
    "    \"ATP_tot\": 1,\n",
    "    \"NADP_tot\": 1,\n",
    "    \"3PGA_max\": 1,\n",
    "    \"Fd_tot\": 1,\n",
    "\n",
    "    \"light\":100, # [µmol(Photons) m^-2 s^-1] Light intensity (warm white LED) \n",
    "    \"cell_density\":1e8, # [cells ml^-1]\n",
    "    \"chlorophyll\":10000, # [µmol l^-1]\n",
    "    \"carotenoids\":3000, # [µmol l^-1]\n",
    "    \"phycocyanin\":None, # [µmol l^-1]\n",
    "    \"allophycocyanin\":None, # [µmol l^-1]\n",
    "    \"beta_carotene_fraction\":0.26, # [rel] fraction of beta-carotene of cellular carotenoids\n",
    "    \"ps_ratio\":5.9,\n",
    "    \"sample_depth_m\":0.01, # [m] Assuming a cuvette with 1 cm diameter\n",
    "    \"cell_volume\": 4e-15,\n",
    "}\n",
    "m.add_parameters(p)\n",
    "\n",
    "def fraction(S, S_tot):\n",
    "    return S/S_tot\n",
    "\n",
    "# Add algebraic models\n",
    "for comp in [\"ATP\", \"NADPH\", \"3PGA\", \"Fd_red\"]:\n",
    "    m.add_algebraic_module_from_args(\n",
    "        f\"{comp} fraction\",\n",
    "        function=fraction,\n",
    "        derived_compounds=[f\"{comp}_fraction\"],\n",
    "        args=[comp, totals[comp]]\n",
    "    )\n",
    "\n",
    "    m.add_reaction_from_args(\n",
    "        f\"{comp} consumption\",\n",
    "        function=rf.mass_action_1,\n",
    "        stoichiometry={comp:-1},\n",
    "        args=[f\"k_{comp}\", comp]\n",
    "    )"
   ]
  },
  {
   "cell_type": "code",
   "execution_count": null,
   "metadata": {},
   "outputs": [],
   "source": [
    "s=Simulator(m)\n",
    "s.initialise({\"ATP\":1, \"NADPH\":0.9, \"3PGA\":0.8, \"Fd_red\":0.7})\n",
    "s.simulate(1)\n",
    "s.plot()"
   ]
  },
  {
   "cell_type": "markdown",
   "metadata": {},
   "source": [
    "### Wrapper function"
   ]
  },
  {
   "cell_type": "markdown",
   "metadata": {},
   "source": [
    "### Add production to mock model"
   ]
  },
  {
   "cell_type": "code",
   "execution_count": 22,
   "metadata": {},
   "outputs": [],
   "source": [
    "# Estimate the required production ratios by the fill state of the metabolite pools\n",
    "def get_required_production_ratio(*args):\n",
    "    frac = np.stack(args, axis=0)\n",
    "    frac = 1 - frac\n",
    "    rel_frac = frac / frac.sum(axis=0)\n",
    "    return rel_frac\n",
    "\n",
    "m.add_algebraic_module_from_args(\n",
    "    \"production ratios\",\n",
    "    function=get_required_production_ratio,\n",
    "    derived_compounds=[f\"{comp}_prodratio\" for comp in [\"ATP\", \"NADPH\", \"3PGA\", \"Fd_red\"]],\n",
    "    args=[f\"{comp}_fraction\" for comp in [\"ATP\", \"NADPH\", \"3PGA\", \"Fd_red\"]]\n",
    ")\n",
    "\n",
    "m.add_algebraic_module_from_args(\n",
    "    \"production_rates\",\n",
    "    function=get_influx_rate_estimations_modelbase,\n",
    "    derived_compounds=[\"vATP_prod\", \"vNADPH_prod\", \"v3PGA_prod\", \"vFd_red_prod\"],\n",
    "    args=[\n",
    "        \"light\",\n",
    "        \"ATP_prodratio\",\n",
    "        \"NADPH_prodratio\",\n",
    "        \"3PGA_prodratio\",\n",
    "        \"Fd_red_prodratio\",\n",
    "        \"cell_density\",\n",
    "        \"chlorophyll\",\n",
    "        \"carotenoids\",\n",
    "        \"phycocyanin\",\n",
    "        \"allophycocyanin\",\n",
    "        \"ps_ratio\",\n",
    "        \"beta_carotene_fraction\",\n",
    "        \"sample_depth_m\",\n",
    "        \"cell_volume\",\n",
    "    ]\n",
    ")\n",
    "\n",
    "# Add algebraic models\n",
    "for comp in [\"ATP\", \"NADPH\", \"3PGA\", \"Fd_red\"]:\n",
    "    m.add_reaction_from_args(\n",
    "        f\"{comp} production\",\n",
    "        function=rf.constant,\n",
    "        stoichiometry={comp:1},\n",
    "        args=[f\"v{comp}_prod\"]\n",
    "    )"
   ]
  },
  {
   "cell_type": "code",
   "execution_count": null,
   "metadata": {},
   "outputs": [],
   "source": [
    "s=Simulator(m)\n",
    "s.initialise({\"ATP\":1, \"NADPH\":0.9, \"3PGA\":0.8, \"Fd_red\":0.7})\n",
    "s.simulate(10)\n",
    "s.plot()"
   ]
  },
  {
   "cell_type": "code",
   "execution_count": null,
   "metadata": {},
   "outputs": [],
   "source": [
    "s.get_full_results_df()"
   ]
  }
 ],
 "metadata": {
  "kernelspec": {
   "display_name": "synphot",
   "language": "python",
   "name": "python3"
  },
  "language_info": {
   "codemirror_mode": {
    "name": "ipython",
    "version": 3
   },
   "file_extension": ".py",
   "mimetype": "text/x-python",
   "name": "python",
   "nbconvert_exporter": "python",
   "pygments_lexer": "ipython3",
   "version": "3.11.0"
  }
 },
 "nbformat": 4,
 "nbformat_minor": 2
}

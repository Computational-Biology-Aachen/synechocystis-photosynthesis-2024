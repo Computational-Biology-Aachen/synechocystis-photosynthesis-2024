{
 "cells": [
  {
   "cell_type": "markdown",
   "metadata": {},
   "source": [
    "# Get a Biomass function using a GSM\n",
    "**Model Publication:**  \n",
    "Kugler, A., Stensjö, K. Optimal energy and redox metabolism in the cyanobacterium Synechocystis sp. PCC 6803. npj Syst Biol Appl 9, 47 (2023). https://doi.org/10.1038/s41540-023-00307-3\n",
    "\n",
    "**Available at:**  \n",
    "https://github.com/amitkugler/CBA"
   ]
  },
  {
   "cell_type": "code",
   "execution_count": 27,
   "metadata": {
    "metadata": {}
   },
   "outputs": [],
   "source": [
    "from cobra.io import load_json_model\n",
    "from cobra.flux_analysis.loopless import add_loopless\n",
    "from cobra.flux_analysis import pfba\n",
    "\n",
    "from cobra import Model, Reaction, Metabolite"
   ]
  },
  {
   "cell_type": "code",
   "execution_count": 12,
   "metadata": {
    "metadata": {}
   },
   "outputs": [],
   "source": [
    "# Load the model\n",
    "model = load_json_model('../CBA/GSM/JSON/iJN678_AK.json')"
   ]
  },
  {
   "cell_type": "code",
   "execution_count": 72,
   "metadata": {
    "metadata": {}
   },
   "outputs": [],
   "source": [
    "def add_import(model, metabolite_name, reaction_stoichiometry, bounds=(-1000,1000)):\n",
    "    # Define the reaction\n",
    "    reac = Reaction(f'{metabolite_name}_import')\n",
    "    reac.name = f'{metabolite_name} import'\n",
    "    reac.bounds = bounds\n",
    "\n",
    "    # Add the correct stoichiometry and add to the model\n",
    "    reac.add_metabolites({model.metabolites.get_by_id(k): v for k,v in reaction_stoichiometry.items()})\n",
    "    model.add_reactions([reac])\n",
    "    \n",
    "    return model"
   ]
  },
  {
   "cell_type": "code",
   "execution_count": 98,
   "metadata": {
    "metadata": {}
   },
   "outputs": [
    {
     "name": "stdout",
     "output_type": "stream",
     "text": [
      "Autotrophic biomass flux: 0.08239889629798824\n",
      "\n",
      "Objective\n",
      "=========\n",
      "1.0 BIOMASS_Ec_SynAuto = 0.15999112222951956\n",
      "\n",
      "Uptake\n",
      "------\n",
      "Metabolite     Reaction      Flux  C-Number C-Flux\n",
      "     3pg_c  3PGA_import         1         3 44.77%\n",
      "     ca2_e     EX_ca2_e 0.0007219         0  0.00%\n",
      " cobalt2_e EX_cobalt2_e 0.0005203         0  0.00%\n",
      "     cu2_e     EX_cu2_e 0.0004813         0  0.00%\n",
      "     fe2_e     EX_fe2_e  0.001198         0  0.00%\n",
      "     fe3_e     EX_fe3_e   0.00109         0  0.00%\n",
      "       h_e       EX_h_e     51.94         0  0.00%\n",
      "    hco3_e    EX_hco3_e       3.7         1 55.22%\n",
      "       k_e       EX_k_e   0.02707         0  0.00%\n",
      "     mg2_e     EX_mg2_e  0.004602         0  0.00%\n",
      "     mn2_e     EX_mn2_e 0.0004846         0  0.00%\n",
      "    mobd_e    EX_mobd_e 0.0004847         0  0.00%\n",
      "     na1_e     EX_na1_e 0.0006059         0  0.00%\n",
      "     no3_e     EX_no3_e     1.442         0  0.00%\n",
      "      o2_e      EX_o2_e     3.674         0  0.00%\n",
      "     so4_e     EX_so4_e   0.03036         0  0.00%\n",
      "     zn2_e     EX_zn2_e 0.0004813         0  0.00%\n",
      "  rdmbzi_c  SK_rdmbzi_c 3.568E-05        14  0.01%\n",
      "\n",
      "Secretion\n",
      "---------\n",
      "Metabolite     Reaction      Flux  C-Number  C-Flux\n",
      " 5mdru1p_c DM_5mdru1p_c -0.001079         6 100.00%\n",
      "     h2o_e     EX_h2o_e    -24.78         0   0.00%\n",
      "\n"
     ]
    }
   ],
   "source": [
    "with model:\n",
    "    #############\n",
    "    # Set phototrophic growth and modify the model as described in the Analysis by Kugler\n",
    "\n",
    "    #set model objective to autotrophic growth\n",
    "    model.objective = 'BIOMASS_Ec_SynAuto'\n",
    "    #set photoautotropic growth by constraining glucose exchange reatcion\n",
    "    model.reactions.EX_glc__D_e.bounds = (0, 1000)\n",
    "    #set photoautotropic growth by constraining HCO3 exchange reatcion.\n",
    "    model.reactions.EX_co2_e.bounds = (0, 1000)\n",
    "    model.reactions.EX_hco3_e.bounds = (-3.7, 1000)\n",
    "    #set photon flux to lab scale conditions.\n",
    "    model.reactions.EX_photon_e.bounds = (-45, -45)\n",
    "    #blocking transhydrogenase PntAB\n",
    "    model.reactions.NADTRHD.bounds = (0, 0)\n",
    "\n",
    "    # Make the model loopless (makes model infeasible)\n",
    "    # add_loopless(model)\n",
    "\n",
    "    # Get the default flux\n",
    "    _sol = model.optimize(\"maximize\")\n",
    "    uPRE = _sol.fluxes[\"BIOMASS_Ec_SynAuto\"]\n",
    "\n",
    "    print(f\"Autotrophic biomass flux: {uPRE}\\n\")\n",
    "\n",
    "    ##############\n",
    "    # Disable light reactions\n",
    "    model.reactions.EX_photon_e.bounds = (0, 0)\n",
    "\n",
    "    # Instead, add Exchange reactions for ATP, NADPH and 3PGA\n",
    "    pseudo_reactions = {\n",
    "        \"3PGA\":  ({\"3pg_c\":1}, (-1, 1)),\n",
    "        \"ATP\":   ({\"atp_c\":1, \"adp_c\":-1}, (-1000, 1000)),\n",
    "        \"NADPH\": ({\"nadph_c\":1, \"nadp_c\":-1, \"h_c\":-1}, (-1000, 1000))\n",
    "    }\n",
    "    for name, (stoich, bounds) in pseudo_reactions.items():\n",
    "        model = add_import(model, name, stoich, bounds)\n",
    "\n",
    "    # Disable other Carbon import reactions\n",
    "    # HCO3 import\n",
    "    # model.reactions.EX_hco3_e.lower_bound = 0\n",
    "\n",
    "    sol = model.optimize(\"maximize\")\n",
    "    print(model.summary(sol))\n",
    "\n",
    "    ATP_prod = sol.fluxes[[x.id for x in model.metabolites.get_by_id(\"atp_c\").reactions]]"
   ]
  },
  {
   "cell_type": "code",
   "execution_count": null,
   "metadata": {},
   "outputs": [],
   "source": [
    "sol.fluxes.get"
   ]
  },
  {
   "cell_type": "code",
   "execution_count": 106,
   "metadata": {
    "metadata": {}
   },
   "outputs": [
    {
     "data": {
      "text/plain": [
       "-0.8895665621019178"
      ]
     },
     "execution_count": 106,
     "metadata": {},
     "output_type": "execute_result"
    }
   ],
   "source": [
    "sol.fluxes.get(\"ATP_import\")"
   ]
  },
  {
   "cell_type": "code",
   "execution_count": 107,
   "metadata": {
    "metadata": {}
   },
   "outputs": [
    {
     "data": {
      "text/plain": [
       "22.572853420093764"
      ]
     },
     "execution_count": 107,
     "metadata": {},
     "output_type": "execute_result"
    }
   ],
   "source": [
    "sol.fluxes.get(\"NADPH_import\")"
   ]
  },
  {
   "cell_type": "code",
   "execution_count": 108,
   "metadata": {
    "metadata": {}
   },
   "outputs": [
    {
     "data": {
      "text/plain": [
       "1.0"
      ]
     },
     "execution_count": 108,
     "metadata": {},
     "output_type": "execute_result"
    }
   ],
   "source": [
    "sol.fluxes.get(\"3PGA_import\")"
   ]
  }
 ],
 "metadata": {
  "kernelspec": {
   "display_name": "gcb2023",
   "language": "python",
   "name": "python3"
  },
  "language_info": {
   "codemirror_mode": {
    "name": "ipython",
    "version": 3
   },
   "file_extension": ".py",
   "mimetype": "text/x-python",
   "name": "python",
   "nbconvert_exporter": "python",
   "pygments_lexer": "ipython3",
   "version": "3.10.12"
  }
 },
 "nbformat": 4,
 "nbformat_minor": 2
}

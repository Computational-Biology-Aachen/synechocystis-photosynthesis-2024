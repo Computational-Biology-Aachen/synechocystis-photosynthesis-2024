{
 "cells": [
  {
   "cell_type": "markdown",
   "metadata": {},
   "source": [
    "# Model fitting and robustness"
   ]
  },
  {
   "cell_type": "code",
   "execution_count": 1,
   "metadata": {},
   "outputs": [],
   "source": [
    "%matplotlib inline\n",
    "\n",
    "# Import packages and functions\n",
    "import modelbase\n",
    "import numpy as np\n",
    "import pandas as pd\n",
    "import os\n",
    "import importlib\n",
    "import sys\n",
    "import re\n",
    "import warnings\n",
    "\n",
    "import matplotlib as mpl\n",
    "import matplotlib.pyplot as plt\n",
    "from matplotlib.ticker import FormatStrFormatter\n",
    "from matplotlib.patches import Rectangle\n",
    "from matplotlib.colors import TwoSlopeNorm, CenteredNorm, SymLogNorm, Normalize\n",
    "import matplotlib.colors as colors\n",
    "from mpl_toolkits.axes_grid1.inset_locator import inset_axes\n",
    "\n",
    "from scipy.signal import find_peaks, savgol_filter\n",
    "from scipy.stats import iqr\n",
    "from scipy.integrate import simpson\n",
    "from scipy.optimize import minimize\n",
    "\n",
    "from modelbase.ode import Model, Simulator, mca\n",
    "from modelbase.ode import ratelaws as rl\n",
    "from modelbase.ode import ratefunctions as rf\n",
    "\n",
    "from concurrent.futures import ProcessPoolExecutor\n",
    "from functools import partial\n",
    "from pathlib import Path\n",
    "from sympy import Matrix, lambdify, linsolve, symbols\n",
    "from warnings import warn\n",
    "from os import listdir\n",
    "from os.path import join\n",
    "from functools import reduce\n",
    "from operator import mul\n",
    "from bisect import bisect_left\n",
    "\n",
    "# Helper functions\n",
    "sys.path.append(\"../Code\")\n",
    "import functions as fnc\n",
    "import calculate_parameters_restruct as prm\n",
    "import functions_light_absorption as lip\n",
    "from module_update_FlvandCCM import CO2sol\n",
    "from calculate_parameters_restruct import unit_conv\n",
    "\n",
    "# Import model functions\n",
    "from get_current_model import get_model\n",
    "from module_update_phycobilisomes import add_OCP\n",
    "\n",
    "idx = pd.IndexSlice"
   ]
  },
  {
   "cell_type": "code",
   "execution_count": 2,
   "metadata": {},
   "outputs": [],
   "source": [
    "from functions_custom_steady_state_simulator import simulate_to_steady_state_custom, _find_steady_state, get_response_coefficients, get_response_coefficients_array, get_response_coefficients_df, calculate_ss_Q_red, get_steadystate_y0"
   ]
  },
  {
   "cell_type": "code",
   "execution_count": 3,
   "metadata": {},
   "outputs": [],
   "source": [
    "from functions_fluorescence_simulation import make_lights, make_adjusted_lights, create_protocol_NPQ, create_protocol_NPQ_short, create_protocol_noNPQ"
   ]
  },
  {
   "cell_type": "code",
   "execution_count": 4,
   "metadata": {},
   "outputs": [],
   "source": [
    "# Set the paths to save figures and objects\n",
    "figure_path = Path(\"../Figures\")\n",
    "results_path = Path(\"../Results\")\n",
    "\n",
    "plot_format = [\"svg\", \"png\"]\n",
    "\n",
    "# Reduce or increase the number of simulated points in appropriate analyses (1=default amount)\n",
    "fraction_simulated_points = 0.3"
   ]
  },
  {
   "cell_type": "code",
   "execution_count": 5,
   "metadata": {},
   "outputs": [],
   "source": [
    "# Container for different residuals\n",
    "residuals = {}"
   ]
  },
  {
   "cell_type": "markdown",
   "metadata": {},
   "source": [
    "## 1) Electron pathways at different light intensities\n",
    "Target: 15 electrons/PSI/s LET amounting to ~65%"
   ]
  },
  {
   "cell_type": "code",
   "execution_count": 6,
   "metadata": {},
   "outputs": [],
   "source": [
    "def get_pathways_at_lights(model, y0, lights, intens):\n",
    "    sims = []\n",
    "    for i, light in zip(intens, lights):\n",
    "        m = model.copy()\n",
    "        m.update_parameter(\"pfd\", light)\n",
    "\n",
    "        # Prepare for ss simulation\n",
    "        exch_dict = {\n",
    "            \"3PGA\": {\"k\": 10, \"thresh\": 1000},\n",
    "            # \"PG\": {\"k\": 10, \"thresh\": 1},\n",
    "        }\n",
    "        m =fnc.add_exchange(m, exch_dict)\n",
    "\n",
    "        s = Simulator(m)\n",
    "        s.initialise(y0)\n",
    "        # t,y = s.simulate(10000)\n",
    "        # t,y = s.simulate_to_steady_state(tolerance=1e-2)\n",
    "        s,t,y = simulate_to_steady_state_custom(s,        simulation_kwargs={\n",
    "            \"t_end\": 1e6,\n",
    "            \"tolerances\": [[[\"CBBa\", \"PSII\", \"OCP\"], 1e-7], [None, 1e-6]],\n",
    "            \"verbose\": True,\n",
    "        },\n",
    "        rel_norm=True, return_simulator=True, **fnc.simulator_kwargs[\"loose\"])\n",
    "\n",
    "        if t is None:\n",
    "            raise RuntimeError(f\"simulation failed for i={i:.2f}\")\n",
    "        else:\n",
    "            sims.append(s)\n",
    "\n",
    "    # Get the electron pathways\n",
    "    pathways = pd.DataFrame({i:pd.DataFrame(fnc.get_ss_electron_pathways(s)).iloc[-1,:] for s,i in zip(sims, intens)}).T\n",
    "    return pathways, sims"
   ]
  },
  {
   "cell_type": "code",
   "execution_count": 7,
   "metadata": {},
   "outputs": [],
   "source": [
    "normToPS1 = True\n",
    "\n",
    "intens = np.linspace(100, 320, int(10 * fraction_simulated_points))\n",
    "lights = [lip.light_gaussianLED(670, i) for i in intens]\n",
    "\n",
    "# Simulate Wild Type and different mutants\n",
    "# Standard model\n",
    "m,y0 = get_model(check_consistency=False, verbose=False)\n",
    "\n",
    "pathways, sims = get_pathways_at_lights(m, y0, lights, intens)\n",
    "fnc.save_Simulator_dated(sims, f\"resid_epaths_sims\", results_path)\n",
    "fnc.save_obj_dated(pathways, \"resid_epaths_paths\", results_path)\n",
    "\n",
    "# Get the mean LET fraction\n",
    "let_frac = (pathways.T / pathways.sum(axis=1)).T[\"linear\"]\n",
    "\n",
    "# Residuals with target value 65%\n",
    "residuals[\"LET_fraction\"] = np.linalg.norm(let_frac - 0.65, ord=2)\n",
    "\n",
    "# Get the Let flux per PSI\n",
    "norm = m.get_parameter(\"PSItot\") *3# Normalise to PS1 monomers\n",
    "let_flux = pathways[\"linear\"].iloc[-1] / norm\n",
    "\n",
    "# Residuals with target value 65%\n",
    "residuals[\"LET_flux\"] = np.abs(let_flux - 15)"
   ]
  },
  {
   "cell_type": "markdown",
   "metadata": {},
   "source": [
    "## 2) Schuurmans Oxygen and CO2 fluxes (Figure 6)"
   ]
  },
  {
   "cell_type": "code",
   "execution_count": 8,
   "metadata": {},
   "outputs": [],
   "source": [
    "def get_O2andCO2rates(s):\n",
    "    #  Get O2 and CO2 rates\n",
    "    rates = {}\n",
    "    res = {}\n",
    "\n",
    "    rates[\"O2\"] = fnc.get_stoichiometric_fluxes(s, \"O2\")\n",
    "    rates[\"O2\"].pop(\"vO2out\")\n",
    "\n",
    "    rates[\"CO2\"] = fnc.get_stoichiometric_fluxes(s, \"CO2\")\n",
    "    rates[\"CO2\"].pop(\"vCCM\")\n",
    "\n",
    "    for cmp in [\"O2\", \"CO2\"]:\n",
    "        prod = pd.DataFrame(rates[cmp].copy())\n",
    "        prod[prod<0] = 0\n",
    "        res[f\"{cmp}_production\"] = prod.sum(axis=1, skipna=False)\n",
    "\n",
    "        cons = pd.DataFrame(rates[cmp].copy())\n",
    "        cons[prod>0] = 0\n",
    "        res[f\"{cmp}_consumption\"] = cons.sum(axis=1, skipna=False)\n",
    "\n",
    "        res[f\"{cmp}_net\"] = pd.DataFrame(rates[cmp]).sum(axis=1, skipna=False)\n",
    "    \n",
    "    return pd.DataFrame(res)"
   ]
  },
  {
   "cell_type": "code",
   "execution_count": 9,
   "metadata": {},
   "outputs": [],
   "source": [
    "# Reference values for plot\n",
    "# Oxygen change rates from Schuurmans2014\n",
    "Schuurmans = pd.read_csv(\"../Code/data/O2rates_Schuurmans2014.csv\", skiprows=1, index_col=0).loc[:,[\" prod_625_highCO2\", \" cons_625_highCO2\"]]\n",
    "Schuurmans.columns = [\"O2_production\",\"O2_consumption\"]\n",
    "\n",
    "# Define the lights\n",
    "intens = Schuurmans.index.to_numpy()\n",
    "lights = [lip.light_gaussianLED(625, i) for i in intens]\n"
   ]
  },
  {
   "cell_type": "code",
   "execution_count": 10,
   "metadata": {},
   "outputs": [],
   "source": [
    "\n",
    "# Standard model\n",
    "m,y0 = get_model(check_consistency=False, verbose=False)\n",
    "\n",
    "# Adjust the lights to in-culture conditions (2 mg(Chl) l^-1 according to Schuurmans)\n",
    "MChl = 893.509 # [g mol^-1]\n",
    "absorption_coef = lip.get_pigment_absorption(m.parameters[\"pigment_content\"]).sum(axis=1) * MChl\n",
    "lights = lip.get_mean_sample_light(\n",
    "    lights, # [µmol(Photons) m^-2 s^-1]\n",
    "    depth = 0.01,  # [m]\n",
    "    absorption_coef=absorption_coef,\n",
    "    chlorophyll_sample=(\n",
    "        2 # [mg(Chl) l^-1] (Schuurmans2014)\n",
    "        / MChl # [mol g^-1]\n",
    "        * 1e3\n",
    "    ) # [mmol(Chl) m^-3]\n",
    ")\n",
    "\n",
    "# If a lower fraction of simulated points is given, select fewer points\n",
    "if fraction_simulated_points <1:\n",
    "    lights_select = slice(0,len(lights), int(fraction_simulated_points**-1))\n",
    "else:\n",
    "    lights_select = slice(None)\n",
    "# Calculate the pathways for the specified lights\n",
    "pathways, sims = get_pathways_at_lights(m, y0, lights[lights_select], intens[lights_select])\n",
    "\n",
    "# Get the O2 and CO2 rates for Wild Type\n",
    "gasrates = pd.concat([get_O2andCO2rates(s).iloc[-1,:] for s in sims], axis=1)\n",
    "gasrates.columns = intens[lights_select].astype(int)\n",
    "fnc.save_obj_dated(gasrates, \"resid_Schuurmans_gasrates\", results_path)\n",
    "\n",
    "# Calculate the Root mean squared error (RMSE)\n",
    "res = gasrates.T.loc[:, [\"O2_production\",\"O2_consumption\"]] * prm.unit_conv([\"mmol mol(Chl)-1 -> mmol g(Chl)-1\", \"s-1 -> min-1\"])\n",
    "res = res - Schuurmans.loc[res.index,:]\n",
    "residuals[\"Schuurmans_O2\"] = (res**2).mean().mean()**0.5\n"
   ]
  },
  {
   "cell_type": "markdown",
   "metadata": {},
   "source": [
    "## 3) Benschop O2 data"
   ]
  },
  {
   "cell_type": "code",
   "execution_count": 11,
   "metadata": {},
   "outputs": [],
   "source": [
    "def get_ssflux(m, y0, lightfun, target, light_params, tolerance=1e-4, rel_norm=False):\n",
    "    light = lightfun(*light_params)\n",
    "    s = Simulator(m.copy())\n",
    "    s.update_parameter(\"pfd\", light)\n",
    "    s.initialise(y0)\n",
    "    # t,y = s.simulate_to_steady_state(tolerance=tolerance, rel_norm=rel_norm, **fnc.simulator_kwargs[\"loose\"])\n",
    "    s,t,y = simulate_to_steady_state_custom(s,         simulation_kwargs={\n",
    "            \"t_end\": 1e6,\n",
    "            \"tolerances\": [[[\"CBBa\", \"PSII\", \"OCP\"], 1e-7], [None, 1e-6]],\n",
    "            \"verbose\": True,\n",
    "        },\n",
    "        rel_norm=True, return_simulator=True, **fnc.simulator_kwargs[\"loose\"])\n",
    "    if t is None:\n",
    "        return np.nan\n",
    "    else:\n",
    "        return float(s.get_fluxes_dict()[target])"
   ]
  },
  {
   "cell_type": "code",
   "execution_count": 12,
   "metadata": {},
   "outputs": [],
   "source": [
    "# Fit to the Benschop2003 CO2 fixation data\n",
    "# Benschop2003_high = pd.read_csv(Path(\"data/CO2fixation_Benschop2003_highCO2.csv\"), index_col=0)\n",
    "Benschop2003_low = pd.read_csv(Path(\"../Code/data/CO2fixation_Benschop2003_lowCO2.csv\"), index_col=0)"
   ]
  },
  {
   "cell_type": "code",
   "execution_count": 13,
   "metadata": {},
   "outputs": [],
   "source": [
    "# Conversion of µM Co2 concentration to partial pressure (atm)\n",
    "# Assuming T=30°C, S=35 (Salinity of seawater)\n",
    "T= 303.150 # [K]\n",
    "S = 35 # [unitless] Salinity\n",
    "CO2_conv = 1/(CO2sol(T,S,1) * 1e6)\n",
    "\n",
    "Benschop_CO2uMs = Benschop2003_low.index.to_numpy()\n",
    "Benschop_CO2pps = Benschop2003_low.index.to_numpy() * CO2_conv"
   ]
  },
  {
   "cell_type": "code",
   "execution_count": 14,
   "metadata": {},
   "outputs": [],
   "source": [
    "# Adapt a model so that no compounds accumulate or drain\n",
    "# Define a dictionary with all compounds that should be held constant\n",
    "exch_dict = {\n",
    "    \"3PGA\": {\"k\": 10, \"thresh\": 1000},\n",
    "    }\n",
    "\n",
    "# Define the MCA model by adding a flux keeping 3PGA constant\n",
    "m_MCA,y0 = get_model(check_consistency=False, verbose=False)\n",
    "m_MCA = fnc.add_exchange(m_MCA, exch_dict)\n",
    "\n",
    "# If a lower fraction of simulated points is given, select fewer points\n",
    "if fraction_simulated_points <1:\n",
    "    CO2_select = slice(0,len(Benschop_CO2pps), int(fraction_simulated_points**-1))\n",
    "else:\n",
    "    CO2_select = slice(None)\n",
    "\n",
    "O2s = pd.Series(np.nan, index=Benschop_CO2uMs[CO2_select])\n",
    "for CO2pp, CO2uM in zip(Benschop_CO2pps[CO2_select], Benschop_CO2uMs[CO2_select]):\n",
    "    m_MCA.update_parameters({\n",
    "        \"CO2ext_pp\": CO2pp,\n",
    "    })\n",
    "\n",
    "    _O2s = get_ssflux(\n",
    "        m_MCA,\n",
    "        y0,\n",
    "        lip.light_spectra,\n",
    "        \"vO2out\",\n",
    "        (\"cool_white_led\", 800),\n",
    "    )\n",
    "\n",
    "    O2s.loc[CO2uM] = _O2s\n",
    "\n",
    "fnc.save_obj_dated(O2s, \"resid_Benschop_O2\", results_path)\n",
    "\n",
    "# Calculate the Root mean squared error (RMSE)\n",
    "res = O2s * unit_conv(['mmol mol(Chl)-1 -> mmol g(Chl)-1', 's-1 -> h-1'])\n",
    "res = res - Benschop2003_low.iloc[CO2_select,0]\n",
    "residuals[\"Benschop_O2\"] = (res**2).mean()**0.5"
   ]
  },
  {
   "cell_type": "markdown",
   "metadata": {},
   "source": [
    "## 4) Original 435 nm PAM-SP experiment"
   ]
  },
  {
   "cell_type": "markdown",
   "metadata": {},
   "source": [
    "### Unfinished"
   ]
  },
  {
   "cell_type": "code",
   "execution_count": 15,
   "metadata": {},
   "outputs": [],
   "source": [
    "def get_best_peak(x, t_SP, **kwargs):\n",
    "    \"\"\"Get the best peaks height according to prominence.\n",
    "    If none is found, return -1.\n",
    "\n",
    "    Args:\n",
    "        x (_type_): _description_\n",
    "\n",
    "    Returns:\n",
    "        _type_: _description_\n",
    "    \"\"\"\n",
    "    peaks = find_peaks(x, **kwargs)\n",
    "    if len(peaks[0]) == 0:\n",
    "        pos = None\n",
    "    elif len(peaks[0]) == 1:\n",
    "        if np.isnan(peaks[0][0]):\n",
    "            pos = None\n",
    "        else:\n",
    "            pos = int(peaks[0][0])\n",
    "    else:\n",
    "        pos = int(peaks[0][np.argmax(peaks[1][\"prominences\"])])\n",
    "\n",
    "    xmax = x.max()\n",
    "    if pos is None:\n",
    "        if ((x.loc[t_SP] - xmax) / xmax ) > 0.05:\n",
    "            warn(\"strong deviance from max (> 5%)\")\n",
    "        return (-1, x.loc[t_SP])\n",
    "    else:\n",
    "        if ((x.iloc[pos] - xmax) / xmax ) > 0.05:\n",
    "            warn(\"strong deviance from max (> 5%)\")\n",
    "        return (x.index[pos], x.iloc[pos])"
   ]
  },
  {
   "cell_type": "code",
   "execution_count": 16,
   "metadata": {},
   "outputs": [],
   "source": [
    "def get_PS_concentration(f_PS1_PS2, fraction_is_monomers=False, output_is_monomers=False):\n",
    "    if not fraction_is_monomers:\n",
    "        n_chl_PSII = ( # [chl PSII^-1] number of chlorophyll molecules per PSII dimer complex(Fuente2021)\n",
    "            35 * # [chl PSII^-1] number of chlorophyll molecules per PSII complex(Fuente2021)     \n",
    "            2) # [unitless] two PSII monomers per dimer\n",
    "        n_chl_PSI = ( # [chl PSI^-1] number of chlorophyll molecules per PSI trimer complex (Fuente2021)     \n",
    "            96 * # [chl PSI^-1] number of chlorophyll molecules per PSI complex (Fuente2021)     \n",
    "            3) # [unitless] three PSI monomers per trimer\n",
    "    else:\n",
    "        n_chl_PSII = 35 # [chl PSII^-1] number of chlorophyll molecules per PSII complex(Fuente2021)     \n",
    "        n_chl_PSI = 96 # [chl PSI^-1] number of chlorophyll molecules per PSI complex (Fuente2021)     \n",
    "\n",
    "    f_PSI_PStot = 1 / (1 + 1/f_PS1_PS2) # [PSII PStot^-1] fraction of PSIIs compared to the whole number of photosystems\n",
    "    f_PSII_PStot = 1 - f_PSI_PStot # [PSI PStot^-1] fraction of PSIs compared to the whole number of photosystems\n",
    "\n",
    "    c_PSIItot = ( # [mmol mol(Chl)^-1] total concentration of photosystem 2 complexes (ADAPT DATA SET)\n",
    "        (f_PSII_PStot * n_chl_PSII) / (f_PSII_PStot * n_chl_PSII + f_PSI_PStot * n_chl_PSI) *  # [unitless] fraction of chlorophylls bound in PSII complexes\n",
    "        1/n_chl_PSII * 1e3) # [PSII chl^-1] * [mmol mol^-1]\n",
    "    c_PSItot = ( # [mmol mol(Chl)^-1] total concentration of photosystem 1 complexes (ADAPT DATA SET)\n",
    "        (f_PSI_PStot * n_chl_PSI) / (f_PSII_PStot * n_chl_PSII + f_PSI_PStot * n_chl_PSI) *  # [unitless] fraction of chlorophylls bound in PSII complexes\n",
    "        1/n_chl_PSI * 1e3) # [PSI chl^-1] * [mmol mol^-1]\n",
    "\n",
    "    if not output_is_monomers and fraction_is_monomers:\n",
    "        c_PSIItot = c_PSIItot/2\n",
    "        c_PSItot = c_PSItot/3\n",
    "\n",
    "    return {\"PSIItot\":c_PSIItot, \"PSItot\":c_PSItot}"
   ]
  },
  {
   "cell_type": "markdown",
   "metadata": {},
   "source": [
    "### Get the PAM and strain data"
   ]
  },
  {
   "cell_type": "code",
   "execution_count": 17,
   "metadata": {},
   "outputs": [],
   "source": [
    "def get_pbs_attachment(df, light, rel_fluo):\n",
    "    res = df.loc[:,str(light)] / pd.Series(rel_fluo)\n",
    "    return (res / res.sum()).to_dict()\n",
    "\n",
    "def get_strain_parameters(df_pigments, df_PBS, df_PS1_PS2, growthlight, pbs_relfluo):\n",
    "    # Get the PBS attachment and pigments\n",
    "    pbs = get_pbs_attachment(df_PBS, growthlight, pbs_relfluo)\n",
    "\n",
    "    pigment = df_pigments.loc[:,str(growthlight)]\n",
    "\n",
    "    # Get the photosysystems concentration form the ratio and chla content\n",
    "    ps_conc = get_PS_concentration(float(df_PS1_PS2.loc[:,str(growthlight)]), fraction_is_monomers=True, output_is_monomers=False)\n",
    "\n",
    "    # Return a combines parameter dict\n",
    "    res = {\"pigment_content\": pigment}\n",
    "    res.update(pbs)\n",
    "    res.update(ps_conc)\n",
    "    return res\n",
    "\n",
    "def _plot_model_and_data(s, data, sim_offset=None, data_offset=None, ax=None):\n",
    "    # Initialise a plot\n",
    "    if ax is None:\n",
    "        fig, ax = plt.subplots(**fnc.plt_defaults[\"figure\"])\n",
    "    else:\n",
    "        fig = ax.figure\n",
    "\n",
    "    # Align data and model using an offset\n",
    "    if sim_offset is None:\n",
    "        time = s.get_time()\n",
    "    elif s.get_time()[0] != (-sim_offset):\n",
    "        time = np.array(s.get_time())- (s.get_time()[0] + sim_offset)\n",
    "    else:\n",
    "        time = s.get_time()\n",
    "\n",
    "    # Plot the data\n",
    "    dat = data/data.max().max()\n",
    "    dat_time = dat.index\n",
    "\n",
    "    if data_offset is not None:\n",
    "        dat_time -= data_offset\n",
    "    dat_line = ax.plot(dat_time, dat.values, c=\"firebrick\", label=\"Measurement\")\n",
    "    ax.set_xlabel(\"Time [s]\")\n",
    "    ax.set_ylabel(\"Fluorescence [rel.]\")\n",
    "    ax.set_ylim(ymin=0)\n",
    "\n",
    "    # Plot the simulation on top\n",
    "    fluo = s.get_full_results_dict()[\"Fluo\"]\n",
    "    fluo_norm = fluo / fluo.max()\n",
    "    sim_line = ax.plot(time, fluo_norm, c=\"black\", label=\"Simulation\")\n",
    "\n",
    "    if len(dat_line)>1:\n",
    "        handles = sim_line + dat_line[0]\n",
    "    else:\n",
    "        handles = sim_line + dat_line\n",
    "\n",
    "    ax.legend(\n",
    "        handles = handles,\n",
    "        loc=\"center right\",\n",
    "        bbox_to_anchor = (1,0.85)\n",
    "    )\n",
    "\n",
    "    return fig, ax\n",
    "\n",
    "def plot_model_and_data(s, data, pulse_pfd, ax=None, sim_offset=None, data_offset=None, **lightbar_kwargs):\n",
    "    figs={}\n",
    "\n",
    "    # Data plot\n",
    "    col_select_kw = \"^F\"\n",
    "    col_select = [i for i,x in enumerate(data.columns) if re.search(col_select_kw, x)]\n",
    "    col_selectnam = data.columns[col_select]\n",
    "    plot_data = data.loc[10:data.index[-1]-10, col_selectnam[:-1]]\n",
    "\n",
    "    s_trim = fnc.remove_beginning_from_simulation(s, 300)\n",
    "\n",
    "    fig,ax = _plot_model_and_data(s_trim, plot_data, sim_offset=sim_offset, data_offset=data_offset, ax=ax)\n",
    "    ax = fnc.add_lightbar(s_trim, ax, pulse_pfd * 0.95, color=\"mono\", remove_pulses=True, scale=\"log\", size=0.06, time_offset=0, **lightbar_kwargs)\n",
    "\n",
    "    return fig, ax\n",
    "\n",
    "def annotate_electron_pathways(ax, epath):\n",
    "    ypos = epath.cumsum(axis=1) - (epath/2)\n",
    "\n",
    "    for y,s in zip(ypos.to_numpy().flatten(), epath.to_numpy().flatten()):\n",
    "        ax.text(x=0, y=y, s=np.round(s,3), ha='center', va='center')\n",
    "    return ax\n",
    "\n",
    "def ss_analysis(m, light_int=100, light_wl=659):\n",
    "    sslight = lip.light_gaussianLED(light_wl, light_int)\n",
    "    mss = m.copy()\n",
    "    mss.update_parameter(\"pfd\", sslight)\n",
    "\n",
    "    # Initialise the model\n",
    "    sss=Simulator(mss)\n",
    "    sss.initialise(y0)\n",
    "    t,y = sss.simulate(10000)\n",
    "\n",
    "    # plot_overview_isoATP(sss)\n",
    "    epath = fnc.get_ss_electron_pathways(sss)\n",
    "    epath = epath/float(epath.sum(axis=1, skipna=False))\n",
    "    ax = epath.plot(kind=\"bar\", stacked=True)\n",
    "\n",
    "    # Annotate the bars\n",
    "    ax = annotate_electron_pathways(ax,epath)\n",
    "    return sss, [ax], epath"
   ]
  },
  {
   "cell_type": "code",
   "execution_count": 18,
   "metadata": {},
   "outputs": [],
   "source": [
    "# Get the fluorescence data paths\n",
    "DIRPATH = Path(\"../Code/data\")\n",
    "PAMPATH = DIRPATH / \"PAM_Slow_kinetics_files_Zavrel2021\"\n",
    "file_names = listdir(PAMPATH)\n",
    "file_paths = np.array([join(PAMPATH, file_name) for file_name in file_names])"
   ]
  },
  {
   "cell_type": "code",
   "execution_count": 19,
   "metadata": {},
   "outputs": [],
   "source": [
    "# Extract the measurement type from the file name, use to group replicates\n",
    "meas_types = np.array([re.sub(r\"([0-9]+)_[0-9]+\\.[csvCSV]+\", \"\\\\1\", x) for x in file_names])\n",
    "meas_types_set = list(set(meas_types))\n",
    "meas_types_set.sort()"
   ]
  },
  {
   "cell_type": "code",
   "execution_count": 20,
   "metadata": {},
   "outputs": [],
   "source": [
    "# Load and preprocess all data\n",
    "pamdata = {}\n",
    "\n",
    "for meas_select in  meas_types_set:\n",
    "    file_paths_select = file_paths[meas_types == meas_select]\n",
    "\n",
    "    # Create a container for the combined data\n",
    "    meas_data = pd.DataFrame([])\n",
    "\n",
    "    # Iterate through the files\n",
    "    for i,file_path in enumerate(file_paths_select):\n",
    "        # Adapt the file reading parameters depending on the file structure\n",
    "        if meas_select.startswith(\"PSI+PSII kinetics\"):\n",
    "            skiprows = 1\n",
    "        else:\n",
    "            skiprows = 0\n",
    "        \n",
    "        # Read the file and remove empty columns\n",
    "        file_data = pd.read_csv(file_path, sep=\";\",skiprows=skiprows, index_col=0)\n",
    "        file_data=file_data.loc[:,np.invert(np.all(np.isnan(file_data), axis=0))]\n",
    "\n",
    "        if i == 0:\n",
    "            # Save the common column names\n",
    "            col_names = file_data.columns\n",
    "\n",
    "        # Combine replicates\n",
    "        meas_data = meas_data.join(file_data, rsuffix=f\"_{i}\", how=\"outer\")\n",
    "\n",
    "    # Exclude all data points that are nor present in all datasets\n",
    "    excl_data = meas_data.iloc[list(np.invert(np.isnan(meas_data).any(axis=1))),:]\n",
    "    excl_data.shape\n",
    "        \n",
    "    # Normalise the Data to its highest point\n",
    "    norm_data = excl_data.copy()\n",
    "    norm_data = norm_data / norm_data.max()\n",
    "\n",
    "    # Set the normalised data as analysis data\n",
    "    data = norm_data\n",
    "\n",
    "    # # Calculate the mean over selected columns\n",
    "    # for col_name in col_names:\n",
    "    #     col_select = [bool(re.search(col_name, x)) for x in data.columns]\n",
    "    #     col_mean = data.iloc[:,col_select].mean(axis=1, skipna=False).rename(f\"{col_name}_mean\")\n",
    "\n",
    "    #     # Add to the dataframe\n",
    "    #     data = data.join(col_mean)\n",
    "    \n",
    "    # Store the data\n",
    "    pamdata[meas_select] = data\n",
    "\n",
    "# Extract the growth lights\n",
    "growthlights = set([re.sub(\"^.*([0-9]{3})$\",\"\\\\1\",meas_select) for meas_select in meas_types_set])"
   ]
  },
  {
   "cell_type": "code",
   "execution_count": 21,
   "metadata": {},
   "outputs": [],
   "source": [
    "\n",
    "# Get the strain-specific parameters\n",
    "dat = pd.read_csv(DIRPATH / \"Strainparameters_Zavrel2021.csv\", skiprows=1, index_col=0).iloc[:,2:]\n",
    "\n",
    "# Get the concentration data\n",
    "# dat_conc = dat.loc[dat.loc[:,\"Unit\"].str.match(\"fg cell-1\"), :]\n",
    "dat_conc = dat.loc[[\"Chlorophyll a\", \"β-carotene \", \"Allophycocyanin\", \"Phycocyanin\"], :]\n",
    "dat_conc.index = ['chla', 'beta_carotene', 'allophycocyanin', 'phycocyanin']\n",
    "\n",
    "# Convert to [mg mg(Chla)^-1]\n",
    "dat_conc = dat_conc.div(dat_conc.iloc[0,:]) # convert to [mg mg(Chla)^-1]\n",
    "dat_conc.loc[:,\"Unit\"] = \"mg mg(Chla)^-1\"\n",
    "\n",
    "# Get the photosystems data\n",
    "dat_PS = dat.loc[[\"PSI / PSII\"],:]\n",
    "\n",
    "# Get the phycobilisome data\n",
    "dat_PBS = dat.loc[[\"PBS attached to PSII\", \"PBS attached to PSI\", \"PBS uncoupled - disattached from both PSI and PSII\"], :]\n",
    "dat_PBS.index = [\"PBS_PS2\", \"PBS_PS1\", \"PBS_free\"]\n",
    "\n",
    "\n",
    "# Calculate the strain parameters\n",
    "strain_params = {}\n",
    "strain_export = {}\n",
    "\n",
    "for growthlight in dat.columns:\n",
    "    # Get the strain specific parameters\n",
    "    strain_param = get_strain_parameters(\n",
    "        df_pigments=dat_conc,\n",
    "        df_PBS=dat_PBS,\n",
    "        df_PS1_PS2=dat_PS,\n",
    "        growthlight=growthlight,\n",
    "        pbs_relfluo={\"PBS_PS2\":1, \"PBS_PS1\":1, \"PBS_free\":10},\n",
    "    )\n",
    "\n",
    "    MChl = 893.509 # [g mol^-1]\n",
    "    absorption_coef = lip.get_pigment_absorption(strain_param[\"pigment_content\"]).sum(axis=1) * MChl # [m^2 mmol(Chl)^-1]\n",
    "\n",
    "    # Get the PAM sample Chl concentration\n",
    "    # Estimated from a later measurement where OD600 = 0.8, the PAM samples had 0.6\n",
    "    OD800_Chlconc = pd.read_excel(DIRPATH/\"Chlorophyll, total car.xlsx\", skiprows=1).iloc[1:,].loc[:,[\"Sample\", \"Chlorophyll a\"]]\n",
    "    OD800_Chlconc.loc[:,\"Sample\"] = OD800_Chlconc.loc[:,\"Sample\"].str.removesuffix(\" nm\")\n",
    "    OD800_Chlconc = OD800_Chlconc.groupby(\"Sample\").mean()\n",
    "    OD800_Chlconc.head() # [mol (10 ml)^-1]\n",
    "\n",
    "    indexmapping = {idx1:idx2 for idx1,idx2 in zip(dat.columns, OD800_Chlconc.index)}\n",
    "\n",
    "    # Convert the chlorophyll concentration units\n",
    "    cuvette_Chlconc = ( # [mmol(Chl) m^-3]\n",
    "        float(OD800_Chlconc.loc[indexmapping[str(growthlight)]]) # [mol (10 ml)^-1]\n",
    "        / 10 # [ml]\n",
    "        * 1e3 # [mol mmol^-1]\n",
    "        * 1e6 # [ml m^-3]\n",
    "        * 0.3 / 0.8 # [rel] OD of the PAM sample\n",
    "    )\n",
    "\n",
    "    # Save the data\n",
    "    strain_params[growthlight] = {\n",
    "        \"params\": strain_param,\n",
    "        \"cuvette_Chlconc\": cuvette_Chlconc\n",
    "    }"
   ]
  },
  {
   "cell_type": "markdown",
   "metadata": {},
   "source": [
    "### Select the PAM data"
   ]
  },
  {
   "cell_type": "code",
   "execution_count": 22,
   "metadata": {},
   "outputs": [],
   "source": [
    "# Select the experiment to use and the range in which to search for the SPs\n",
    "experiment_select = 'PSII kinetics, NPQ at state 1_435'\n",
    "peak_find_range = np.array([-5, +5])\n",
    "\n",
    "pamdata_select = pamdata[experiment_select]"
   ]
  },
  {
   "cell_type": "markdown",
   "metadata": {},
   "source": [
    "### Find the FM's"
   ]
  },
  {
   "cell_type": "code",
   "execution_count": 23,
   "metadata": {},
   "outputs": [],
   "source": [
    "# Container for storing Fm' and Fs values\n",
    "data_points = {}"
   ]
  },
  {
   "cell_type": "code",
   "execution_count": 24,
   "metadata": {},
   "outputs": [],
   "source": [
    "# Define the timings of the expected Fm's\n",
    "# An SP is given every 20 seconds\n",
    "Fm_timings = np.arange(13, pamdata_select.index[-1], 20)[:-1]"
   ]
  },
  {
   "cell_type": "code",
   "execution_count": 25,
   "metadata": {},
   "outputs": [],
   "source": [
    "# Make containers for recording the peak values and times\n",
    "_peaks = pd.DataFrame(\n",
    "    np.nan,\n",
    "    index=Fm_timings,\n",
    "    columns=pamdata_select.columns)\n",
    "_peak_times=_peaks.copy()\n",
    "\n",
    "for i, t_SP in enumerate(Fm_timings):\n",
    "    # Select the region around the expected SP time\n",
    "    _peak = (pamdata_select\n",
    "        .ffill(axis=0) # remove NAs     \n",
    "        .apply(savgol_filter, window_length=10, polyorder=2) # Smooth the signal\n",
    "        .loc[slice(*(t_SP+peak_find_range)),:]\n",
    "        .apply(get_best_peak, t_SP=t_SP, width=15, prominence=0.005, axis=0) # plateau_size=10,\n",
    "        ) # Find peaks\n",
    "    _peak_times.loc[t_SP] = _peak.iloc[0,:].to_numpy()\n",
    "    _peaks.loc[t_SP] = _peak.iloc[1,:].to_numpy()\n",
    "\n",
    "data_points[\"Fm'\"] = _peaks"
   ]
  },
  {
   "cell_type": "markdown",
   "metadata": {},
   "source": [
    "### Select values left and right of the FM'"
   ]
  },
  {
   "cell_type": "code",
   "execution_count": 26,
   "metadata": {},
   "outputs": [
    {
     "data": {
      "text/plain": [
       "F      0.90\n",
       "F_1    0.85\n",
       "F_2    0.94\n",
       "dtype: float64"
      ]
     },
     "execution_count": 26,
     "metadata": {},
     "output_type": "execute_result"
    }
   ],
   "source": [
    "# Get the maximal distance between the detected expected timing of Fms\n",
    "# The selected next to the\n",
    "# _peak_times.subtract(Fm_timings, axis=0).abs().max()"
   ]
  },
  {
   "cell_type": "code",
   "execution_count": 28,
   "metadata": {},
   "outputs": [],
   "source": [
    "# Select points left and right of the SP\n",
    "point_timing = (-3, +3)\n",
    "\n",
    "data_points[\"left\"] = pamdata_select.loc[Fm_timings + point_timing[0]]\n",
    "data_points[\"right\"] = pamdata_select.loc[Fm_timings + point_timing[1]]"
   ]
  },
  {
   "cell_type": "markdown",
   "metadata": {},
   "source": [
    "### Model the data"
   ]
  },
  {
   "cell_type": "code",
   "execution_count": 89,
   "metadata": {},
   "outputs": [],
   "source": [
    "# Container for the simulated points\n",
    "sim_points = pd.DataFrame(np.nan, index=data_points[\"Fm'\"].index, columns=[\"Fm'\", \"left\", \"right\"])"
   ]
  },
  {
   "cell_type": "code",
   "execution_count": 32,
   "metadata": {},
   "outputs": [],
   "source": [
    "lights = make_lights(blue_wl=480)\n",
    "lights_adj = make_adjusted_lights(absorption_coef, cuvette_Chlconc)\n",
    "dark_adj, low_blue_adj, high_blue_adj, orange_adj, pulse_orange_adj, pulse_blue_adj = lights_adj\n",
    "\n",
    "# Get the pfd of the pulses\n",
    "pulse_pfd = np.min([simpson(x) for x in [pulse_orange_adj, pulse_blue_adj]])"
   ]
  },
  {
   "cell_type": "code",
   "execution_count": 33,
   "metadata": {},
   "outputs": [],
   "source": [
    "def complex_absorption(pfd, ps_ratio, pigment_content):\n",
    "    absorption = lip.get_pigment_absorption(pigment_content)\n",
    "    association = lip.get_pigment_association(\n",
    "        ps_ratio,\n",
    "        beta_carotene_method=\"stoichiometric\",\n",
    "        pigments=pigment_content,\n",
    "        verbose=False,\n",
    "    )\n",
    "\n",
    "    M_chl = 893.509  # [g mol^-1] molar mass of chlorophyll a (C55H72MgN4O5)\n",
    "\n",
    "    return (\n",
    "        lip.get_complex_absorption(pfd, absorption, association) * M_chl\n",
    "    )  # [µmol(Photons) mmol(Chl)^-1 s^-1]"
   ]
  },
  {
   "cell_type": "markdown",
   "metadata": {},
   "source": [
    "### Simulate the 435 nm experiment (with low blue phase after red)"
   ]
  },
  {
   "cell_type": "code",
   "execution_count": 34,
   "metadata": {},
   "outputs": [],
   "source": [
    "# Select the measurement to simulate\n",
    "growthlight = int(experiment_select[-3:])\n",
    "\n",
    "strain_param = strain_params[str(growthlight)][\"params\"]\n",
    "cuvette_Chlconc = strain_params[str(growthlight)][\"cuvette_Chlconc\"]\n",
    "\n",
    "# Get the latest model version\n",
    "m4,y0 = get_model(check_consistency=False, reduced_size=False, verbose=False)\n",
    "\n",
    "# ADAPTION TO THE STRAIN\n",
    "y0.update({\"PSII\":strain_param[\"PSIItot\"]})\n",
    "m4.update_parameters(\n",
    "    strain_param\n",
    ")\n",
    "\n",
    "# Change the CO2 concentration to 400ppm as experiments were conducted in air\n",
    "m4.update_parameter(\"CO2ext_pp\", 0.0004)\n",
    "\n",
    "# Initialise the model\n",
    "s4=Simulator(m4)\n",
    "s4.initialise(y0)\n",
    "\n",
    "# Simulate the appropriate protocol\n",
    "pulse_pfdm4 = 2600 * 2\n",
    "lights_lowpulse = make_adjusted_lights(\n",
    "    absorption_coef=absorption_coef, \n",
    "    chlorophyll_sample=cuvette_Chlconc, \n",
    "    lights=make_lights(pulseInt=pulse_pfdm4, blue_wl=480)\n",
    ")\n",
    "if experiment_select.startswith(\"PSII kinetics, NPQ at state 2\"):\n",
    "    protocol4 = create_protocol_noNPQ(*lights_lowpulse)\n",
    "else:\n",
    "    protocol4 = create_protocol_NPQ(*lights_lowpulse)\n",
    "\n",
    "s4 = fnc.simulate_protocol(s4, protocol4, retry_unsuccessful=True)\n",
    "fnc.save_Simulator_dated(s4, f\"resid_Zavrel2021sim{experiment_select[-5:]}\", path=results_path, save_fluxes=True, save_full_results=True)"
   ]
  },
  {
   "cell_type": "code",
   "execution_count": 35,
   "metadata": {},
   "outputs": [],
   "source": [
    "def create_protocol_NPQ_TEST(\n",
    "    dark_adj, low_blue_adj, high_blue_adj, orange_adj, pulse_orange_adj, pulse_blue_adj\n",
    "):\n",
    "    protocol_NPQ = fnc.create_protocol_PAM(\n",
    "        init=300,\n",
    "        actinic=(dark_adj, 20 - 0.3),  # Actinic light intensity and duration\n",
    "        saturating=(\n",
    "            pulse_orange_adj,\n",
    "            0.3,\n",
    "        ),  # Saturating pulse light intensity and duration\n",
    "        cycles=4,\n",
    "        first_actinic_time=20,\n",
    "        final_actinic_time=18,\n",
    "    )\n",
    "\n",
    "    print([np.round(simpson(x),1) for x in [dark_adj, low_blue_adj, high_blue_adj, orange_adj, pulse_orange_adj, pulse_blue_adj]])\n",
    "\n",
    "    # Create the low blue light phase with 6 pulses\n",
    "    protocol_NPQ = fnc.create_protocol_PAM(\n",
    "        init=protocol_NPQ,\n",
    "        actinic=(low_blue_adj, 20 - 0.3),  # Actinic light intensity and duration\n",
    "        saturating=(\n",
    "            pulse_blue_adj,\n",
    "            0.3,\n",
    "        ),  # Saturating pulse light intensity and duration\n",
    "        cycles=6,\n",
    "        first_actinic_time=2,\n",
    "        final_actinic_time=18,\n",
    "    )\n",
    "\n",
    "    print([np.round(simpson(x),1) for x in [dark_adj, low_blue_adj, high_blue_adj, orange_adj, pulse_orange_adj, pulse_blue_adj]])\n",
    "\n",
    "    # Create the orange light phase with 9 pulses\n",
    "    protocol_NPQ = fnc.create_protocol_PAM(\n",
    "        init=protocol_NPQ,\n",
    "        actinic=(orange_adj, 20 - 0.3),  # Actinic light intensity and duration\n",
    "        saturating=(\n",
    "            pulse_orange_adj,\n",
    "            0.3,\n",
    "        ),  # Saturating pulse light intensity and duration\n",
    "        cycles=9,\n",
    "        first_actinic_time=2,\n",
    "        final_actinic_time=18,\n",
    "    )\n",
    "    \n",
    "    print([np.round(simpson(x),1) for x in [dark_adj, low_blue_adj, high_blue_adj, orange_adj, pulse_orange_adj, pulse_blue_adj]])\n",
    "\n",
    "    # Create the low blue light phase with 9 pulses\n",
    "    protocol_NPQ = fnc.create_protocol_PAM(\n",
    "        init=protocol_NPQ,\n",
    "        actinic=(low_blue_adj, 20 - 0.3),  # Actinic light intensity and duration\n",
    "        saturating=(\n",
    "            pulse_blue_adj,\n",
    "            0.3,\n",
    "        ),  # Saturating pulse light intensity and duration\n",
    "        cycles=9,\n",
    "        first_actinic_time=2,\n",
    "        final_actinic_time=18,\n",
    "    )\n",
    "\n",
    "    print([np.round(simpson(x),1) for x in [dark_adj, low_blue_adj, high_blue_adj, orange_adj, pulse_orange_adj, pulse_blue_adj]])\n",
    "\n",
    "    # Create the high blue light phase with 9 pulses\n",
    "    protocol_NPQ = fnc.create_protocol_PAM(\n",
    "        init=protocol_NPQ,\n",
    "        actinic=(high_blue_adj, 20 - 0.3),  # Actinic light intensity and duration\n",
    "        saturating=(\n",
    "            pulse_blue_adj,\n",
    "            0.3,\n",
    "        ),  # Saturating pulse light intensity and duration\n",
    "        cycles=9,\n",
    "        first_actinic_time=2,\n",
    "        final_actinic_time=18,\n",
    "    )\n",
    "\n",
    "    print([np.round(simpson(x),1) for x in [dark_adj, low_blue_adj, high_blue_adj, orange_adj, pulse_orange_adj, pulse_blue_adj]])\n",
    "\n",
    "    # Create another low blue light phase with 12 pulses\n",
    "    protocol_NPQ = fnc.create_protocol_PAM(\n",
    "        init=protocol_NPQ,\n",
    "        actinic=(low_blue_adj, 20 - 0.3),  # Actinic light intensity and duration\n",
    "        saturating=(\n",
    "            pulse_blue_adj,\n",
    "            0.3,\n",
    "        ),  # Saturating pulse light intensity and duration\n",
    "        cycles=12,\n",
    "        first_actinic_time=2,\n",
    "        final_actinic_time=18,\n",
    "    )\n",
    "    \n",
    "    print([np.round(simpson(x),1) for x in [dark_adj, low_blue_adj, high_blue_adj, orange_adj, pulse_orange_adj, pulse_blue_adj]])\n",
    "\n",
    "    return protocol_NPQ"
   ]
  },
  {
   "cell_type": "code",
   "execution_count": 57,
   "metadata": {},
   "outputs": [],
   "source": [
    "# Determine the Fm' timings (SP pulses have intensity > 2000)\n",
    "SP_bool = (protocol4.loc[:,protocol4.columns.str.startswith(\"_light\")].apply(simpson, axis=1) > 2000).to_numpy()\n",
    "\n",
    "SP_times = pd.DataFrame({\n",
    "    \"start\": protocol4.iloc[:-1].loc[SP_bool[1:], \"t_end\"].to_numpy(), \n",
    "    \"end\": protocol4.loc[SP_bool, \"t_end\"].to_numpy()\n",
    "})"
   ]
  },
  {
   "cell_type": "code",
   "execution_count": 63,
   "metadata": {},
   "outputs": [],
   "source": [
    "# Get the simulated fluorescence normalized to 1\n",
    "fluo = s4.get_full_results_df()[\"Fluo\"]\n",
    "fluo = fluo / fluo.max()"
   ]
  },
  {
   "cell_type": "code",
   "execution_count": 105,
   "metadata": {},
   "outputs": [],
   "source": [
    "# Get the respective values from the simulated data\n",
    "for i, (start, end) in SP_times.iterrows():\n",
    "    peak_time = fluo.loc[start:end].idxmax()\n",
    "    \n",
    "    # Get the FM' value and values to the left and right\n",
    "    sim_points.iloc[i,0] = fluo.loc[peak_time]\n",
    "\n",
    "    for j, offset in enumerate(point_timing):\n",
    "        point_time = peak_time + offset\n",
    "        nearest_time = bisect_left(fluo.index, point_time)\n",
    "        sim_points.iloc[i,j+1] = fluo.loc[fluo.index[[nearest_time, nearest_time+1]]].mean()"
   ]
  },
  {
   "cell_type": "code",
   "execution_count": 132,
   "metadata": {},
   "outputs": [],
   "source": [
    "# Calculate the residuals for all three points\n",
    "for col in sim_points.columns:\n",
    "    residuals[f\"PAMSP435_{col}\"] = (\n",
    "        (data_points[col]\n",
    "        .subtract(sim_points[col].to_numpy(),axis=0)\n",
    "        **2)\n",
    "        .mean()\n",
    "        **(0.5)\n",
    "        )"
   ]
  },
  {
   "cell_type": "markdown",
   "metadata": {},
   "source": [
    "## 5) Validation PAM-SP experiment"
   ]
  },
  {
   "cell_type": "markdown",
   "metadata": {},
   "source": [
    "### Unfinished"
   ]
  },
  {
   "cell_type": "code",
   "execution_count": 211,
   "metadata": {},
   "outputs": [],
   "source": [
    "df = pd.read_csv(Path(\"../Code/data/PAM_validation_Zavrel2024.csv\"), index_col=[0], header=[0,1,2])\n",
    "pamdata_select = df.loc[:1126,idx[\"25\", \"white\",:]]"
   ]
  },
  {
   "cell_type": "markdown",
   "metadata": {},
   "source": [
    "### Find the FM's"
   ]
  },
  {
   "cell_type": "code",
   "execution_count": 212,
   "metadata": {},
   "outputs": [],
   "source": [
    "# Container for storing Fm' and Fs values\n",
    "data_points = {}"
   ]
  },
  {
   "cell_type": "code",
   "execution_count": 213,
   "metadata": {},
   "outputs": [],
   "source": [
    "# Define the timings of the expected Fm's\n",
    "# An SP is given every 30 seconds\n",
    "Fm_timings = np.arange(13, pamdata_select.index[-1], 30)"
   ]
  },
  {
   "cell_type": "code",
   "execution_count": 214,
   "metadata": {},
   "outputs": [],
   "source": [
    "# Make containers for recording the peak values and times\n",
    "_peaks = pd.DataFrame(\n",
    "    np.nan,\n",
    "    index=Fm_timings,\n",
    "    columns=pamdata_select.columns)\n",
    "_peak_times=_peaks.copy()\n",
    "\n",
    "for i, t_SP in enumerate(Fm_timings):\n",
    "    # Select the region around the expected SP time\n",
    "    _peak = (pamdata_select\n",
    "        .ffill(axis=0) # remove NAs     \n",
    "        .apply(savgol_filter, window_length=10, polyorder=2) # Smooth the signal\n",
    "        .loc[slice(*(t_SP+peak_find_range)),:]\n",
    "        .apply(get_best_peak, t_SP=t_SP, width=15, prominence=0.005, axis=0) # plateau_size=10,\n",
    "        ) # Find peaks\n",
    "    _peak_times.loc[t_SP] = _peak.iloc[0,:].to_numpy()\n",
    "    _peaks.loc[t_SP] = _peak.iloc[1,:].to_numpy()\n",
    "\n",
    "data_points[\"Fm'\"] = _peaks"
   ]
  },
  {
   "cell_type": "markdown",
   "metadata": {},
   "source": [
    "### Select values left and right of the FM'"
   ]
  },
  {
   "cell_type": "code",
   "execution_count": 215,
   "metadata": {},
   "outputs": [],
   "source": [
    "# Get the maximal distance between the detected expected timing of Fms\n",
    "# The selected next to the\n",
    "# _peak_times.subtract(Fm_timings, axis=0).abs().max()"
   ]
  },
  {
   "cell_type": "code",
   "execution_count": 220,
   "metadata": {},
   "outputs": [],
   "source": [
    "# Select points left and right of the SP\n",
    "point_timing = (-3, +3)\n",
    "\n",
    "data_points[\"left\"] = pamdata_select.loc[Fm_timings + point_timing[0]]\n",
    "data_points[\"right\"] = pamdata_select.loc[Fm_timings + point_timing[1]]"
   ]
  },
  {
   "cell_type": "code",
   "execution_count": 221,
   "metadata": {},
   "outputs": [],
   "source": [
    "# Container for the simulated points\n",
    "sim_points = pd.DataFrame(np.nan, index=data_points[\"Fm'\"].index, columns=[\"Fm'\", \"left\", \"right\"])"
   ]
  },
  {
   "cell_type": "code",
   "execution_count": 222,
   "metadata": {},
   "outputs": [
    {
     "name": "stdout",
     "output_type": "stream",
     "text": [
      "updating state transitions to hill\n",
      "updating Flv to hill\n",
      "updating CCM to pH dependency\n",
      "updating CBB to Michaelis Menten\n",
      "updating light representation with OCP\n",
      "updating NQ to Michaelis Menten\n",
      "Consistency checks added, this might slow the model down.\n",
      "If the model works fine, set check_consistency=False\n"
     ]
    }
   ],
   "source": [
    "# Protocol of the validation experiment\n",
    "dark, low_blue, high_blue, orange, pulse_orange, pulse_blue = make_lights(\n",
    "    blueInt=80,\n",
    "    orangeInt=50,\n",
    "    highblueInt=1800,\n",
    "    pulseInt=15000,\n",
    "    orange_wl=625,\n",
    "    blue_wl=440,\n",
    ")\n",
    "pulse_white = lip.light_spectra(\"cool_white_led\", 15000)\n",
    "\n",
    "\n",
    "# Dark acclimation\n",
    "protocol = fnc.create_protocol_const(\n",
    "    light=dark,\n",
    "    time=300\n",
    ")\n",
    "\n",
    "# Dark phase\n",
    "protocol = fnc.create_protocol_PAM(\n",
    "    init=protocol,\n",
    "    actinic=(dark, 30-0.6),  # Actinic light intensity and duration\n",
    "    saturating=(\n",
    "        pulse_white,\n",
    "        0.6,\n",
    "    ),  # Saturating pulse light intensity and duration\n",
    "    cycles=4,\n",
    "    final_actinic_time=5\n",
    ")\n",
    "\n",
    "# Blue phase\n",
    "protocol = fnc.create_protocol_PAM(\n",
    "    init=protocol,\n",
    "    actinic=(low_blue, 30-0.6),  # Actinic light intensity and duration\n",
    "    saturating=(\n",
    "        pulse_white,\n",
    "        0.6,\n",
    "    ),  # Saturating pulse light intensity and duration\n",
    "    cycles=6,\n",
    "    first_actinic_time=25,\n",
    "    final_actinic_time=5\n",
    ")\n",
    "\n",
    "# Orange phase\n",
    "protocol = fnc.create_protocol_PAM(\n",
    "    init=protocol,\n",
    "    actinic=(orange, 30-0.6),  # Actinic light intensity and duration\n",
    "    saturating=(\n",
    "        pulse_white,\n",
    "        0.6,\n",
    "    ),  # Saturating pulse light intensity and duration\n",
    "    cycles=10,\n",
    "    first_actinic_time=25,\n",
    "    final_actinic_time=5,\n",
    ")\n",
    "\n",
    "# Blue phase\n",
    "protocol = fnc.create_protocol_PAM(\n",
    "    init=protocol,\n",
    "    actinic=(low_blue, 30-0.6),  # Actinic light intensity and duration\n",
    "    saturating=(\n",
    "        pulse_white,\n",
    "        0.6,\n",
    "    ),  # Saturating pulse light intensity and duration\n",
    "    cycles=6,\n",
    "    first_actinic_time=25,\n",
    "    final_actinic_time=5\n",
    ")\n",
    "\n",
    "# High blue phase\n",
    "protocol = fnc.create_protocol_PAM(\n",
    "    init=protocol,\n",
    "    actinic=(high_blue, 30-0.6),  # Actinic light intensity and duration\n",
    "    saturating=(\n",
    "        pulse_white,\n",
    "        0.6,\n",
    "    ),  # Saturating pulse light intensity and duration\n",
    "    cycles=6,\n",
    "    first_actinic_time=25,\n",
    "    final_actinic_time=5\n",
    ")\n",
    "\n",
    "# Blue phase\n",
    "protocol4 = fnc.create_protocol_PAM(\n",
    "    init=protocol,\n",
    "    actinic=(low_blue, 30-0.6),  # Actinic light intensity and duration\n",
    "    saturating=(\n",
    "        pulse_white,\n",
    "        0.6,\n",
    "    ),  # Saturating pulse light intensity and duration\n",
    "    cycles=6,\n",
    "    first_actinic_time=25,\n",
    "    final_actinic_time=5\n",
    ")\n",
    "\n",
    "# Simulate the validation experiment\n",
    "m,y0 = get_model()\n",
    "s4 = Simulator(m)\n",
    "s4.initialise(y0)\n",
    "\n",
    "# The culture is grown under 1% CO2\n",
    "s4.update_parameter(\"CO2ext_pp\", 0.01)\n",
    "\n",
    "s4 = fnc.simulate_protocol(s4, protocol4, retry_unsuccessful=True)"
   ]
  },
  {
   "cell_type": "code",
   "execution_count": 223,
   "metadata": {},
   "outputs": [],
   "source": [
    "# Determine the Fm' timings (SP pulses have intensity > 2000)\n",
    "SP_bool = (protocol4.loc[:,protocol4.columns.str.startswith(\"_light\")].apply(simpson, axis=1) > 2000).to_numpy()\n",
    "\n",
    "SP_times = pd.DataFrame({\n",
    "    \"start\": protocol4.iloc[:-1].loc[SP_bool[1:], \"t_end\"].to_numpy(), \n",
    "    \"end\": protocol4.loc[SP_bool, \"t_end\"].to_numpy()\n",
    "})"
   ]
  },
  {
   "cell_type": "code",
   "execution_count": 224,
   "metadata": {},
   "outputs": [],
   "source": [
    "# Get the simulated fluorescence normalized to 1\n",
    "fluo = s4.get_full_results_df()[\"Fluo\"]\n",
    "fluo = fluo / fluo.max()"
   ]
  },
  {
   "cell_type": "code",
   "execution_count": 225,
   "metadata": {},
   "outputs": [
    {
     "data": {
      "image/png": "[encoded data removed]",
      "text/plain": [
       "<Figure size 640x480 with 1 Axes>"
      ]
     },
     "metadata": {},
     "output_type": "display_data"
    }
   ],
   "source": [
    "fig ,ax = plt.subplots()\n",
    "\n",
    "ax.plot(pamdata_select)\n",
    "\n",
    "for i in Fm_timings:\n",
    "    ax.axvline(i)"
   ]
  },
  {
   "cell_type": "code",
   "execution_count": 226,
   "metadata": {},
   "outputs": [
    {
     "ename": "IndexError",
     "evalue": "only integers, slices (`:`), ellipsis (`...`), numpy.newaxis (`None`) and integer or boolean arrays are valid indices",
     "output_type": "error",
     "traceback": [
      "\u001b[0;31m---------------------------------------------------------------------------\u001b[0m",
      "\u001b[0;31mIndexError\u001b[0m                                Traceback (most recent call last)",
      "Cell \u001b[0;32mIn [226], line 1\u001b[0m\n\u001b[0;32m----> 1\u001b[0m \u001b[43msim_points\u001b[49m\u001b[38;5;241;43m.\u001b[39;49m\u001b[43miloc\u001b[49m\u001b[43m[\u001b[49m\u001b[43mi\u001b[49m\u001b[43m,\u001b[49m\u001b[38;5;241;43m0\u001b[39;49m\u001b[43m]\u001b[49m \u001b[38;5;241m=\u001b[39m fluo\u001b[38;5;241m.\u001b[39mloc[peak_time]\n",
      "File \u001b[0;32m~/anaconda3/envs/synechocystis-etc-2022/lib/python3.11/site-packages/pandas/core/indexing.py:818\u001b[0m, in \u001b[0;36m_LocationIndexer.__setitem__\u001b[0;34m(self, key, value)\u001b[0m\n\u001b[1;32m    815\u001b[0m \u001b[38;5;28mself\u001b[39m\u001b[38;5;241m.\u001b[39m_has_valid_setitem_indexer(key)\n\u001b[1;32m    817\u001b[0m iloc \u001b[38;5;241m=\u001b[39m \u001b[38;5;28mself\u001b[39m \u001b[38;5;28;01mif\u001b[39;00m \u001b[38;5;28mself\u001b[39m\u001b[38;5;241m.\u001b[39mname \u001b[38;5;241m==\u001b[39m \u001b[38;5;124m\"\u001b[39m\u001b[38;5;124miloc\u001b[39m\u001b[38;5;124m\"\u001b[39m \u001b[38;5;28;01melse\u001b[39;00m \u001b[38;5;28mself\u001b[39m\u001b[38;5;241m.\u001b[39mobj\u001b[38;5;241m.\u001b[39miloc\n\u001b[0;32m--> 818\u001b[0m \u001b[43miloc\u001b[49m\u001b[38;5;241;43m.\u001b[39;49m\u001b[43m_setitem_with_indexer\u001b[49m\u001b[43m(\u001b[49m\u001b[43mindexer\u001b[49m\u001b[43m,\u001b[49m\u001b[43m \u001b[49m\u001b[43mvalue\u001b[49m\u001b[43m,\u001b[49m\u001b[43m \u001b[49m\u001b[38;5;28;43mself\u001b[39;49m\u001b[38;5;241;43m.\u001b[39;49m\u001b[43mname\u001b[49m\u001b[43m)\u001b[49m\n",
      "File \u001b[0;32m~/anaconda3/envs/synechocystis-etc-2022/lib/python3.11/site-packages/pandas/core/indexing.py:1797\u001b[0m, in \u001b[0;36m_iLocIndexer._setitem_with_indexer\u001b[0;34m(self, indexer, value, name)\u001b[0m\n\u001b[1;32m   1795\u001b[0m     \u001b[38;5;28mself\u001b[39m\u001b[38;5;241m.\u001b[39m_setitem_with_indexer_split_path(indexer, value, name)\n\u001b[1;32m   1796\u001b[0m \u001b[38;5;28;01melse\u001b[39;00m:\n\u001b[0;32m-> 1797\u001b[0m     \u001b[38;5;28;43mself\u001b[39;49m\u001b[38;5;241;43m.\u001b[39;49m\u001b[43m_setitem_single_block\u001b[49m\u001b[43m(\u001b[49m\u001b[43mindexer\u001b[49m\u001b[43m,\u001b[49m\u001b[43m \u001b[49m\u001b[43mvalue\u001b[49m\u001b[43m,\u001b[49m\u001b[43m \u001b[49m\u001b[43mname\u001b[49m\u001b[43m)\u001b[49m\n",
      "File \u001b[0;32m~/anaconda3/envs/synechocystis-etc-2022/lib/python3.11/site-packages/pandas/core/indexing.py:2078\u001b[0m, in \u001b[0;36m_iLocIndexer._setitem_single_block\u001b[0;34m(self, indexer, value, name)\u001b[0m\n\u001b[1;32m   2075\u001b[0m \u001b[38;5;28mself\u001b[39m\u001b[38;5;241m.\u001b[39mobj\u001b[38;5;241m.\u001b[39m_check_is_chained_assignment_possible()\n\u001b[1;32m   2077\u001b[0m \u001b[38;5;66;03m# actually do the set\u001b[39;00m\n\u001b[0;32m-> 2078\u001b[0m \u001b[38;5;28mself\u001b[39m\u001b[38;5;241m.\u001b[39mobj\u001b[38;5;241m.\u001b[39m_mgr \u001b[38;5;241m=\u001b[39m \u001b[38;5;28;43mself\u001b[39;49m\u001b[38;5;241;43m.\u001b[39;49m\u001b[43mobj\u001b[49m\u001b[38;5;241;43m.\u001b[39;49m\u001b[43m_mgr\u001b[49m\u001b[38;5;241;43m.\u001b[39;49m\u001b[43msetitem\u001b[49m\u001b[43m(\u001b[49m\u001b[43mindexer\u001b[49m\u001b[38;5;241;43m=\u001b[39;49m\u001b[43mindexer\u001b[49m\u001b[43m,\u001b[49m\u001b[43m \u001b[49m\u001b[43mvalue\u001b[49m\u001b[38;5;241;43m=\u001b[39;49m\u001b[43mvalue\u001b[49m\u001b[43m)\u001b[49m\n\u001b[1;32m   2079\u001b[0m \u001b[38;5;28mself\u001b[39m\u001b[38;5;241m.\u001b[39mobj\u001b[38;5;241m.\u001b[39m_maybe_update_cacher(clear\u001b[38;5;241m=\u001b[39m\u001b[38;5;28;01mTrue\u001b[39;00m, inplace\u001b[38;5;241m=\u001b[39m\u001b[38;5;28;01mTrue\u001b[39;00m)\n",
      "File \u001b[0;32m~/anaconda3/envs/synechocystis-etc-2022/lib/python3.11/site-packages/pandas/core/internals/managers.py:388\u001b[0m, in \u001b[0;36mBaseBlockManager.setitem\u001b[0;34m(self, indexer, value)\u001b[0m\n\u001b[1;32m    383\u001b[0m \u001b[38;5;28;01mif\u001b[39;00m _using_copy_on_write() \u001b[38;5;129;01mand\u001b[39;00m \u001b[38;5;129;01mnot\u001b[39;00m \u001b[38;5;28mself\u001b[39m\u001b[38;5;241m.\u001b[39m_has_no_reference(\u001b[38;5;241m0\u001b[39m):\n\u001b[1;32m    384\u001b[0m     \u001b[38;5;66;03m# if being referenced -> perform Copy-on-Write and clear the reference\u001b[39;00m\n\u001b[1;32m    385\u001b[0m     \u001b[38;5;66;03m# this method is only called if there is a single block -> hardcoded 0\u001b[39;00m\n\u001b[1;32m    386\u001b[0m     \u001b[38;5;28mself\u001b[39m \u001b[38;5;241m=\u001b[39m \u001b[38;5;28mself\u001b[39m\u001b[38;5;241m.\u001b[39mcopy()\n\u001b[0;32m--> 388\u001b[0m \u001b[38;5;28;01mreturn\u001b[39;00m \u001b[38;5;28;43mself\u001b[39;49m\u001b[38;5;241;43m.\u001b[39;49m\u001b[43mapply\u001b[49m\u001b[43m(\u001b[49m\u001b[38;5;124;43m\"\u001b[39;49m\u001b[38;5;124;43msetitem\u001b[39;49m\u001b[38;5;124;43m\"\u001b[39;49m\u001b[43m,\u001b[49m\u001b[43m \u001b[49m\u001b[43mindexer\u001b[49m\u001b[38;5;241;43m=\u001b[39;49m\u001b[43mindexer\u001b[49m\u001b[43m,\u001b[49m\u001b[43m \u001b[49m\u001b[43mvalue\u001b[49m\u001b[38;5;241;43m=\u001b[39;49m\u001b[43mvalue\u001b[49m\u001b[43m)\u001b[49m\n",
      "File \u001b[0;32m~/anaconda3/envs/synechocystis-etc-2022/lib/python3.11/site-packages/pandas/core/internals/managers.py:347\u001b[0m, in \u001b[0;36mBaseBlockManager.apply\u001b[0;34m(self, f, align_keys, ignore_failures, **kwargs)\u001b[0m\n\u001b[1;32m    345\u001b[0m         applied \u001b[38;5;241m=\u001b[39m b\u001b[38;5;241m.\u001b[39mapply(f, \u001b[38;5;241m*\u001b[39m\u001b[38;5;241m*\u001b[39mkwargs)\n\u001b[1;32m    346\u001b[0m     \u001b[38;5;28;01melse\u001b[39;00m:\n\u001b[0;32m--> 347\u001b[0m         applied \u001b[38;5;241m=\u001b[39m \u001b[38;5;28;43mgetattr\u001b[39;49m\u001b[43m(\u001b[49m\u001b[43mb\u001b[49m\u001b[43m,\u001b[49m\u001b[43m \u001b[49m\u001b[43mf\u001b[49m\u001b[43m)\u001b[49m\u001b[43m(\u001b[49m\u001b[38;5;241;43m*\u001b[39;49m\u001b[38;5;241;43m*\u001b[39;49m\u001b[43mkwargs\u001b[49m\u001b[43m)\u001b[49m\n\u001b[1;32m    348\u001b[0m \u001b[38;5;28;01mexcept\u001b[39;00m (\u001b[38;5;167;01mTypeError\u001b[39;00m, \u001b[38;5;167;01mNotImplementedError\u001b[39;00m):\n\u001b[1;32m    349\u001b[0m     \u001b[38;5;28;01mif\u001b[39;00m \u001b[38;5;129;01mnot\u001b[39;00m ignore_failures:\n",
      "File \u001b[0;32m~/anaconda3/envs/synechocystis-etc-2022/lib/python3.11/site-packages/pandas/core/internals/blocks.py:984\u001b[0m, in \u001b[0;36mBlock.setitem\u001b[0;34m(self, indexer, value)\u001b[0m\n\u001b[1;32m    980\u001b[0m         \u001b[38;5;28;01mif\u001b[39;00m lib\u001b[38;5;241m.\u001b[39mis_list_like(vi):\n\u001b[1;32m    981\u001b[0m             \u001b[38;5;66;03m# checking lib.is_scalar here fails on\u001b[39;00m\n\u001b[1;32m    982\u001b[0m             \u001b[38;5;66;03m#  test_iloc_setitem_custom_object\u001b[39;00m\n\u001b[1;32m    983\u001b[0m             casted \u001b[38;5;241m=\u001b[39m setitem_datetimelike_compat(values, \u001b[38;5;28mlen\u001b[39m(vi), casted)\n\u001b[0;32m--> 984\u001b[0m     \u001b[43mvalues\u001b[49m\u001b[43m[\u001b[49m\u001b[43mindexer\u001b[49m\u001b[43m]\u001b[49m \u001b[38;5;241m=\u001b[39m casted\n\u001b[1;32m    985\u001b[0m \u001b[38;5;28;01mreturn\u001b[39;00m \u001b[38;5;28mself\u001b[39m\n",
      "\u001b[0;31mIndexError\u001b[0m: only integers, slices (`:`), ellipsis (`...`), numpy.newaxis (`None`) and integer or boolean arrays are valid indices"
     ]
    }
   ],
   "source": [
    "sim_points.iloc[i,0] = fluo.loc[peak_time]"
   ]
  },
  {
   "cell_type": "code",
   "execution_count": 227,
   "metadata": {},
   "outputs": [],
   "source": [
    "# Get the respective values from the simulated data\n",
    "for i, (start, end) in SP_times.iterrows():\n",
    "    peak_time = fluo.loc[start:end].idxmax()\n",
    "    \n",
    "    # Get the FM' value and values to the left and right\n",
    "    sim_points.iloc[i,0] = fluo.loc[peak_time]\n",
    "\n",
    "    for j, offset in enumerate(point_timing):\n",
    "        point_time = peak_time + offset\n",
    "        nearest_time = bisect_left(fluo.index, point_time)\n",
    "        sim_points.iloc[i,j+1] = fluo.loc[fluo.index[[nearest_time, nearest_time+1]]].mean()"
   ]
  },
  {
   "cell_type": "code",
   "execution_count": 228,
   "metadata": {},
   "outputs": [],
   "source": [
    "# Calculate the residuals for all three points\n",
    "for col in sim_points.columns:\n",
    "    residuals[f\"PAMSPval_{col}\"] = (\n",
    "        (data_points[col]\n",
    "        .subtract(sim_points[col].to_numpy(),axis=0)\n",
    "        **2)\n",
    "        .mean()\n",
    "        **(0.5)\n",
    "        )"
   ]
  },
  {
   "cell_type": "markdown",
   "metadata": {},
   "source": [
    "## Calculate the total residuals"
   ]
  },
  {
   "cell_type": "code",
   "execution_count": 229,
   "metadata": {},
   "outputs": [
    {
     "data": {
      "text/plain": [
       "{'LET_fraction': 0.01693118391839082,\n",
       " 'LET_flux': 2.648456775964437,\n",
       " 'Schuurmans_O2': 0.5613072382743676,\n",
       " 'Benschop_O2': 126.77293094913438,\n",
       " \"PAMSP_Fm'\": F      0.077774\n",
       " F_1    0.092916\n",
       " F_2    0.082187\n",
       " dtype: float64,\n",
       " 'PAMSP_left': F      0.063077\n",
       " F_1    0.058252\n",
       " F_2    0.062390\n",
       " dtype: float64,\n",
       " 'PAMSP_right': F      0.065427\n",
       " F_1    0.061100\n",
       " F_2    0.064391\n",
       " dtype: float64,\n",
       " \"PAMSP435_Fm'\": F      0.077774\n",
       " F_1    0.092916\n",
       " F_2    0.082187\n",
       " dtype: float64,\n",
       " 'PAMSP435_left': F      0.063077\n",
       " F_1    0.058252\n",
       " F_2    0.062390\n",
       " dtype: float64,\n",
       " 'PAMSP435_right': F      0.065427\n",
       " F_1    0.061100\n",
       " F_2    0.064391\n",
       " dtype: float64,\n",
       " \"PAMSPval_Fm'\": 25  white  1    0.093901\n",
       "            3    0.070803\n",
       "            4    0.096929\n",
       "            2    0.102176\n",
       " dtype: float64,\n",
       " 'PAMSPval_left': 25  white  1    0.105562\n",
       "            3    0.070567\n",
       "            4    0.096953\n",
       "            2    0.129291\n",
       " dtype: float64,\n",
       " 'PAMSPval_right': 25  white  1    0.107192\n",
       "            3    0.065192\n",
       "            4    0.090623\n",
       "            2    0.132410\n",
       " dtype: float64}"
      ]
     },
     "execution_count": 229,
     "metadata": {},
     "output_type": "execute_result"
    }
   ],
   "source": [
    "residuals"
   ]
  }
 ],
 "metadata": {
  "kernelspec": {
   "display_name": "synechocystis-etc-2022",
   "language": "python",
   "name": "python3"
  },
  "language_info": {
   "codemirror_mode": {
    "name": "ipython",
    "version": 3
   },
   "file_extension": ".py",
   "mimetype": "text/x-python",
   "name": "python",
   "nbconvert_exporter": "python",
   "pygments_lexer": "ipython3",
   "version": "3.11.0"
  }
 },
 "nbformat": 4,
 "nbformat_minor": 2
}
